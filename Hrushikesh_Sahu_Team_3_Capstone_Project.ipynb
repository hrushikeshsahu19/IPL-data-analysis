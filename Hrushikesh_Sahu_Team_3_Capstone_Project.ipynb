{
  "nbformat": 4,
  "nbformat_minor": 0,
  "metadata": {
    "kernelspec": {
      "display_name": "Python 3",
      "language": "python",
      "name": "python3"
    },
    "language_info": {
      "codemirror_mode": {
        "name": "ipython",
        "version": 3
      },
      "file_extension": ".py",
      "mimetype": "text/x-python",
      "name": "python",
      "nbconvert_exporter": "python",
      "pygments_lexer": "ipython3",
      "version": "3.6.6"
    },
    "colab": {
      "name": "Hrushikesh Sahu-Team 3 - Capstone Project.ipynb",
      "provenance": [],
      "collapsed_sections": [],
      "include_colab_link": true
    }
  },
  "cells": [
    {
      "cell_type": "markdown",
      "metadata": {
        "id": "view-in-github",
        "colab_type": "text"
      },
      "source": [
        "<a href=\"https://colab.research.google.com/github/hrushikeshsahu19/IPL-data-analysis/blob/main/Hrushikesh_Sahu_Team_3_Capstone_Project.ipynb\" target=\"_parent\"><img src=\"https://colab.research.google.com/assets/colab-badge.svg\" alt=\"Open In Colab\"/></a>"
      ]
    },
    {
      "cell_type": "markdown",
      "metadata": {
        "id": "Y06xIdG26kRF"
      },
      "source": [
        "## <b> Indian Premier League(IPL) is a professional Twenty20 cricket league in India contested during March or April and May of every year by eight teams representing eight different cities in India. The league was founded by the Board of Control for Cricket in India(BCCI) in 2008. </b>\n",
        "\n",
        "## <b> Explore and analyze the data to discover results and statistics for different teams playing in IPL. </b>"
      ]
    },
    {
      "cell_type": "code",
      "metadata": {
        "id": "dByMsuzT8Tnw"
      },
      "source": [
        "#import the library\n",
        "import pandas as pd\n",
        "import numpy as np\n",
        "import statistics \n",
        "import seaborn as sns\n",
        "import matplotlib.pyplot as plt"
      ],
      "execution_count": 1,
      "outputs": []
    },
    {
      "cell_type": "code",
      "metadata": {
        "id": "8Ou5H42eIbQ0",
        "outputId": "3b68ab51-94df-4be2-9a43-c5ecf5fb42b9",
        "colab": {
          "base_uri": "https://localhost:8080/"
        }
      },
      "source": [
        "from google.colab import drive\n",
        "drive.mount('/content/drive')"
      ],
      "execution_count": 2,
      "outputs": [
        {
          "output_type": "stream",
          "text": [
            "Mounted at /content/drive\n"
          ],
          "name": "stdout"
        }
      ]
    },
    {
      "cell_type": "markdown",
      "metadata": {
        "id": "C8Fs-NdQX3VL"
      },
      "source": [
        "# 1.DataSet :teams.csv"
      ]
    },
    {
      "cell_type": "code",
      "metadata": {
        "id": "kK6XaI7dXX2P"
      },
      "source": [
        "working_directory = '/content/drive/My Drive/AlmaBetter/Cohort Aravali/Module 2/Week 1/dat/'\n",
        "teams_df = pd.read_csv(working_directory + 'teams.csv')"
      ],
      "execution_count": 3,
      "outputs": []
    },
    {
      "cell_type": "code",
      "metadata": {
        "id": "loxmwhknwvRJ",
        "outputId": "46aac37f-fdff-430c-9687-94feed81eb51",
        "colab": {
          "base_uri": "https://localhost:8080/"
        }
      },
      "source": [
        "teams_df.info()"
      ],
      "execution_count": 4,
      "outputs": [
        {
          "output_type": "stream",
          "text": [
            "<class 'pandas.core.frame.DataFrame'>\n",
            "RangeIndex: 15 entries, 0 to 14\n",
            "Data columns (total 1 columns):\n",
            " #   Column  Non-Null Count  Dtype \n",
            "---  ------  --------------  ----- \n",
            " 0   team1   15 non-null     object\n",
            "dtypes: object(1)\n",
            "memory usage: 248.0+ bytes\n"
          ],
          "name": "stdout"
        }
      ]
    },
    {
      "cell_type": "code",
      "metadata": {
        "id": "4eaYpVwm4ff_",
        "outputId": "336009c5-0a70-4c95-dfec-a447758e15b5",
        "colab": {
          "base_uri": "https://localhost:8080/",
          "height": 166
        }
      },
      "source": [
        "teams_df.describe()"
      ],
      "execution_count": 5,
      "outputs": [
        {
          "output_type": "execute_result",
          "data": {
            "text/html": [
              "<div>\n",
              "<style scoped>\n",
              "    .dataframe tbody tr th:only-of-type {\n",
              "        vertical-align: middle;\n",
              "    }\n",
              "\n",
              "    .dataframe tbody tr th {\n",
              "        vertical-align: top;\n",
              "    }\n",
              "\n",
              "    .dataframe thead th {\n",
              "        text-align: right;\n",
              "    }\n",
              "</style>\n",
              "<table border=\"1\" class=\"dataframe\">\n",
              "  <thead>\n",
              "    <tr style=\"text-align: right;\">\n",
              "      <th></th>\n",
              "      <th>team1</th>\n",
              "    </tr>\n",
              "  </thead>\n",
              "  <tbody>\n",
              "    <tr>\n",
              "      <th>count</th>\n",
              "      <td>15</td>\n",
              "    </tr>\n",
              "    <tr>\n",
              "      <th>unique</th>\n",
              "      <td>15</td>\n",
              "    </tr>\n",
              "    <tr>\n",
              "      <th>top</th>\n",
              "      <td>Delhi Daredevils</td>\n",
              "    </tr>\n",
              "    <tr>\n",
              "      <th>freq</th>\n",
              "      <td>1</td>\n",
              "    </tr>\n",
              "  </tbody>\n",
              "</table>\n",
              "</div>"
            ],
            "text/plain": [
              "                   team1\n",
              "count                 15\n",
              "unique                15\n",
              "top     Delhi Daredevils\n",
              "freq                   1"
            ]
          },
          "metadata": {
            "tags": []
          },
          "execution_count": 5
        }
      ]
    },
    {
      "cell_type": "code",
      "metadata": {
        "id": "MTKeHTUt4nvG",
        "outputId": "b392d079-8a75-4bee-de81-6cefc332ae07",
        "colab": {
          "base_uri": "https://localhost:8080/",
          "height": 195
        }
      },
      "source": [
        "teams_df.head()"
      ],
      "execution_count": 6,
      "outputs": [
        {
          "output_type": "execute_result",
          "data": {
            "text/html": [
              "<div>\n",
              "<style scoped>\n",
              "    .dataframe tbody tr th:only-of-type {\n",
              "        vertical-align: middle;\n",
              "    }\n",
              "\n",
              "    .dataframe tbody tr th {\n",
              "        vertical-align: top;\n",
              "    }\n",
              "\n",
              "    .dataframe thead th {\n",
              "        text-align: right;\n",
              "    }\n",
              "</style>\n",
              "<table border=\"1\" class=\"dataframe\">\n",
              "  <thead>\n",
              "    <tr style=\"text-align: right;\">\n",
              "      <th></th>\n",
              "      <th>team1</th>\n",
              "    </tr>\n",
              "  </thead>\n",
              "  <tbody>\n",
              "    <tr>\n",
              "      <th>0</th>\n",
              "      <td>Pune Warriors</td>\n",
              "    </tr>\n",
              "    <tr>\n",
              "      <th>1</th>\n",
              "      <td>Kolkata Knight Riders</td>\n",
              "    </tr>\n",
              "    <tr>\n",
              "      <th>2</th>\n",
              "      <td>Rajasthan Royals</td>\n",
              "    </tr>\n",
              "    <tr>\n",
              "      <th>3</th>\n",
              "      <td>Kochi Tuskers Kerala</td>\n",
              "    </tr>\n",
              "    <tr>\n",
              "      <th>4</th>\n",
              "      <td>Gujarat Lions</td>\n",
              "    </tr>\n",
              "  </tbody>\n",
              "</table>\n",
              "</div>"
            ],
            "text/plain": [
              "                   team1\n",
              "0          Pune Warriors\n",
              "1  Kolkata Knight Riders\n",
              "2       Rajasthan Royals\n",
              "3   Kochi Tuskers Kerala\n",
              "4          Gujarat Lions"
            ]
          },
          "metadata": {
            "tags": []
          },
          "execution_count": 6
        }
      ]
    },
    {
      "cell_type": "code",
      "metadata": {
        "id": "Lge15Ci940IL",
        "outputId": "2be4fe10-aa6c-4e7d-c1e6-89eebf2c92db",
        "colab": {
          "base_uri": "https://localhost:8080/",
          "height": 491
        }
      },
      "source": [
        "teams_df"
      ],
      "execution_count": 7,
      "outputs": [
        {
          "output_type": "execute_result",
          "data": {
            "text/html": [
              "<div>\n",
              "<style scoped>\n",
              "    .dataframe tbody tr th:only-of-type {\n",
              "        vertical-align: middle;\n",
              "    }\n",
              "\n",
              "    .dataframe tbody tr th {\n",
              "        vertical-align: top;\n",
              "    }\n",
              "\n",
              "    .dataframe thead th {\n",
              "        text-align: right;\n",
              "    }\n",
              "</style>\n",
              "<table border=\"1\" class=\"dataframe\">\n",
              "  <thead>\n",
              "    <tr style=\"text-align: right;\">\n",
              "      <th></th>\n",
              "      <th>team1</th>\n",
              "    </tr>\n",
              "  </thead>\n",
              "  <tbody>\n",
              "    <tr>\n",
              "      <th>0</th>\n",
              "      <td>Pune Warriors</td>\n",
              "    </tr>\n",
              "    <tr>\n",
              "      <th>1</th>\n",
              "      <td>Kolkata Knight Riders</td>\n",
              "    </tr>\n",
              "    <tr>\n",
              "      <th>2</th>\n",
              "      <td>Rajasthan Royals</td>\n",
              "    </tr>\n",
              "    <tr>\n",
              "      <th>3</th>\n",
              "      <td>Kochi Tuskers Kerala</td>\n",
              "    </tr>\n",
              "    <tr>\n",
              "      <th>4</th>\n",
              "      <td>Gujarat Lions</td>\n",
              "    </tr>\n",
              "    <tr>\n",
              "      <th>5</th>\n",
              "      <td>Chennai Super Kings</td>\n",
              "    </tr>\n",
              "    <tr>\n",
              "      <th>6</th>\n",
              "      <td>Rising Pune Supergiants</td>\n",
              "    </tr>\n",
              "    <tr>\n",
              "      <th>7</th>\n",
              "      <td>Delhi Daredevils</td>\n",
              "    </tr>\n",
              "    <tr>\n",
              "      <th>8</th>\n",
              "      <td>Deccan Chargers</td>\n",
              "    </tr>\n",
              "    <tr>\n",
              "      <th>9</th>\n",
              "      <td>Delhi Capitals</td>\n",
              "    </tr>\n",
              "    <tr>\n",
              "      <th>10</th>\n",
              "      <td>Mumbai Indians</td>\n",
              "    </tr>\n",
              "    <tr>\n",
              "      <th>11</th>\n",
              "      <td>Sunrisers Hyderabad</td>\n",
              "    </tr>\n",
              "    <tr>\n",
              "      <th>12</th>\n",
              "      <td>Rising Pune Supergiant</td>\n",
              "    </tr>\n",
              "    <tr>\n",
              "      <th>13</th>\n",
              "      <td>Royal Challengers Bangalore</td>\n",
              "    </tr>\n",
              "    <tr>\n",
              "      <th>14</th>\n",
              "      <td>Kings XI Punjab</td>\n",
              "    </tr>\n",
              "  </tbody>\n",
              "</table>\n",
              "</div>"
            ],
            "text/plain": [
              "                          team1\n",
              "0                 Pune Warriors\n",
              "1         Kolkata Knight Riders\n",
              "2              Rajasthan Royals\n",
              "3          Kochi Tuskers Kerala\n",
              "4                 Gujarat Lions\n",
              "5           Chennai Super Kings\n",
              "6       Rising Pune Supergiants\n",
              "7              Delhi Daredevils\n",
              "8               Deccan Chargers\n",
              "9                Delhi Capitals\n",
              "10               Mumbai Indians\n",
              "11          Sunrisers Hyderabad\n",
              "12       Rising Pune Supergiant\n",
              "13  Royal Challengers Bangalore\n",
              "14              Kings XI Punjab"
            ]
          },
          "metadata": {
            "tags": []
          },
          "execution_count": 7
        }
      ]
    },
    {
      "cell_type": "markdown",
      "metadata": {
        "id": "ZwEoempFyehA"
      },
      "source": [
        "There are 15 teams in our Team data set they are as follows"
      ]
    },
    {
      "cell_type": "markdown",
      "metadata": {
        "id": "giTWtqbby4Px"
      },
      "source": [
        "# 1.Pune Warriors\n",
        "# 2.Kochi Tuskers Kerala\n",
        "# 3.Rajasthan Royals\n",
        "# 4.Kochi Tuskers Kerala\n",
        "#5.Gujarat Lions\n",
        "#6.Chennai Super Kings\n",
        "#7.Rising Pune Supergiants\n",
        "#8.Delhi Daredevils\n",
        "#9.Deccan Chargers\n",
        "#10.Delhi Capitals\n",
        "#11.Mumbai Indians\n",
        "#12.Sunrisers Hyderabad\n",
        "#13.Rising Pune Supergiant\n",
        "#14.Royal Challengers Bangalore\n",
        "#15.Kings XI Punjab"
      ]
    },
    {
      "cell_type": "markdown",
      "metadata": {
        "id": "a8Nb4XkPYK5s"
      },
      "source": [
        "# **2.DataSet  : matches.csv**\n"
      ]
    },
    {
      "cell_type": "code",
      "metadata": {
        "id": "QPThOGhFK4kU"
      },
      "source": [
        "working_directory = '/content/drive/My Drive/AlmaBetter/Cohort Aravali/Module 2/Week 1/dat/'\n",
        "matches_df = pd.read_csv(working_directory + 'matches.csv')"
      ],
      "execution_count": 8,
      "outputs": []
    },
    {
      "cell_type": "code",
      "metadata": {
        "id": "EI0hB0tZ479J",
        "outputId": "2e17e6ab-0184-44fd-f4de-0a2da9e2e938",
        "colab": {
          "base_uri": "https://localhost:8080/",
          "height": 434
        }
      },
      "source": [
        "matches_df.head()"
      ],
      "execution_count": 9,
      "outputs": [
        {
          "output_type": "execute_result",
          "data": {
            "text/html": [
              "<div>\n",
              "<style scoped>\n",
              "    .dataframe tbody tr th:only-of-type {\n",
              "        vertical-align: middle;\n",
              "    }\n",
              "\n",
              "    .dataframe tbody tr th {\n",
              "        vertical-align: top;\n",
              "    }\n",
              "\n",
              "    .dataframe thead th {\n",
              "        text-align: right;\n",
              "    }\n",
              "</style>\n",
              "<table border=\"1\" class=\"dataframe\">\n",
              "  <thead>\n",
              "    <tr style=\"text-align: right;\">\n",
              "      <th></th>\n",
              "      <th>id</th>\n",
              "      <th>Season</th>\n",
              "      <th>city</th>\n",
              "      <th>date</th>\n",
              "      <th>team1</th>\n",
              "      <th>team2</th>\n",
              "      <th>toss_winner</th>\n",
              "      <th>toss_decision</th>\n",
              "      <th>result</th>\n",
              "      <th>dl_applied</th>\n",
              "      <th>winner</th>\n",
              "      <th>win_by_runs</th>\n",
              "      <th>win_by_wickets</th>\n",
              "      <th>player_of_match</th>\n",
              "      <th>venue</th>\n",
              "      <th>umpire1</th>\n",
              "      <th>umpire2</th>\n",
              "      <th>umpire3</th>\n",
              "    </tr>\n",
              "  </thead>\n",
              "  <tbody>\n",
              "    <tr>\n",
              "      <th>0</th>\n",
              "      <td>1</td>\n",
              "      <td>IPL-2017</td>\n",
              "      <td>Hyderabad</td>\n",
              "      <td>05-04-2017</td>\n",
              "      <td>Sunrisers Hyderabad</td>\n",
              "      <td>Royal Challengers Bangalore</td>\n",
              "      <td>Royal Challengers Bangalore</td>\n",
              "      <td>field</td>\n",
              "      <td>normal</td>\n",
              "      <td>0</td>\n",
              "      <td>Sunrisers Hyderabad</td>\n",
              "      <td>35</td>\n",
              "      <td>0</td>\n",
              "      <td>Yuvraj Singh</td>\n",
              "      <td>Rajiv Gandhi International Stadium, Uppal</td>\n",
              "      <td>AY Dandekar</td>\n",
              "      <td>NJ Llong</td>\n",
              "      <td>NaN</td>\n",
              "    </tr>\n",
              "    <tr>\n",
              "      <th>1</th>\n",
              "      <td>2</td>\n",
              "      <td>IPL-2017</td>\n",
              "      <td>Pune</td>\n",
              "      <td>06-04-2017</td>\n",
              "      <td>Mumbai Indians</td>\n",
              "      <td>Rising Pune Supergiant</td>\n",
              "      <td>Rising Pune Supergiant</td>\n",
              "      <td>field</td>\n",
              "      <td>normal</td>\n",
              "      <td>0</td>\n",
              "      <td>Rising Pune Supergiant</td>\n",
              "      <td>0</td>\n",
              "      <td>7</td>\n",
              "      <td>SPD Smith</td>\n",
              "      <td>Maharashtra Cricket Association Stadium</td>\n",
              "      <td>A Nand Kishore</td>\n",
              "      <td>S Ravi</td>\n",
              "      <td>NaN</td>\n",
              "    </tr>\n",
              "    <tr>\n",
              "      <th>2</th>\n",
              "      <td>3</td>\n",
              "      <td>IPL-2017</td>\n",
              "      <td>Rajkot</td>\n",
              "      <td>07-04-2017</td>\n",
              "      <td>Gujarat Lions</td>\n",
              "      <td>Kolkata Knight Riders</td>\n",
              "      <td>Kolkata Knight Riders</td>\n",
              "      <td>field</td>\n",
              "      <td>normal</td>\n",
              "      <td>0</td>\n",
              "      <td>Kolkata Knight Riders</td>\n",
              "      <td>0</td>\n",
              "      <td>10</td>\n",
              "      <td>CA Lynn</td>\n",
              "      <td>Saurashtra Cricket Association Stadium</td>\n",
              "      <td>Nitin Menon</td>\n",
              "      <td>CK Nandan</td>\n",
              "      <td>NaN</td>\n",
              "    </tr>\n",
              "    <tr>\n",
              "      <th>3</th>\n",
              "      <td>4</td>\n",
              "      <td>IPL-2017</td>\n",
              "      <td>Indore</td>\n",
              "      <td>08-04-2017</td>\n",
              "      <td>Rising Pune Supergiant</td>\n",
              "      <td>Kings XI Punjab</td>\n",
              "      <td>Kings XI Punjab</td>\n",
              "      <td>field</td>\n",
              "      <td>normal</td>\n",
              "      <td>0</td>\n",
              "      <td>Kings XI Punjab</td>\n",
              "      <td>0</td>\n",
              "      <td>6</td>\n",
              "      <td>GJ Maxwell</td>\n",
              "      <td>Holkar Cricket Stadium</td>\n",
              "      <td>AK Chaudhary</td>\n",
              "      <td>C Shamshuddin</td>\n",
              "      <td>NaN</td>\n",
              "    </tr>\n",
              "    <tr>\n",
              "      <th>4</th>\n",
              "      <td>5</td>\n",
              "      <td>IPL-2017</td>\n",
              "      <td>Bangalore</td>\n",
              "      <td>08-04-2017</td>\n",
              "      <td>Royal Challengers Bangalore</td>\n",
              "      <td>Delhi Daredevils</td>\n",
              "      <td>Royal Challengers Bangalore</td>\n",
              "      <td>bat</td>\n",
              "      <td>normal</td>\n",
              "      <td>0</td>\n",
              "      <td>Royal Challengers Bangalore</td>\n",
              "      <td>15</td>\n",
              "      <td>0</td>\n",
              "      <td>KM Jadhav</td>\n",
              "      <td>M Chinnaswamy Stadium</td>\n",
              "      <td>NaN</td>\n",
              "      <td>NaN</td>\n",
              "      <td>NaN</td>\n",
              "    </tr>\n",
              "  </tbody>\n",
              "</table>\n",
              "</div>"
            ],
            "text/plain": [
              "   id    Season       city  ...         umpire1        umpire2 umpire3\n",
              "0   1  IPL-2017  Hyderabad  ...     AY Dandekar       NJ Llong     NaN\n",
              "1   2  IPL-2017       Pune  ...  A Nand Kishore         S Ravi     NaN\n",
              "2   3  IPL-2017     Rajkot  ...     Nitin Menon      CK Nandan     NaN\n",
              "3   4  IPL-2017     Indore  ...    AK Chaudhary  C Shamshuddin     NaN\n",
              "4   5  IPL-2017  Bangalore  ...             NaN            NaN     NaN\n",
              "\n",
              "[5 rows x 18 columns]"
            ]
          },
          "metadata": {
            "tags": []
          },
          "execution_count": 9
        }
      ]
    },
    {
      "cell_type": "code",
      "metadata": {
        "id": "Pjrz5W8H3gbM",
        "outputId": "af7dd1de-6e3d-44a1-8ac1-ffd87e93aa25",
        "colab": {
          "base_uri": "https://localhost:8080/"
        }
      },
      "source": [
        "matches_df.shape"
      ],
      "execution_count": 10,
      "outputs": [
        {
          "output_type": "execute_result",
          "data": {
            "text/plain": [
              "(756, 18)"
            ]
          },
          "metadata": {
            "tags": []
          },
          "execution_count": 10
        }
      ]
    },
    {
      "cell_type": "markdown",
      "metadata": {
        "id": "HEO1oiw-3iEC"
      },
      "source": [
        " there are 756 rows and 18 columns in our matches data set . each rows indicate that  IPL matches held between 2008 and 2019. each column represent the corresponding features"
      ]
    },
    {
      "cell_type": "code",
      "metadata": {
        "id": "IakUtV0j5QzS",
        "outputId": "0dae4445-1d76-434e-d231-b642ab9681b6",
        "colab": {
          "base_uri": "https://localhost:8080/"
        }
      },
      "source": [
        "list(matches_df.columns)"
      ],
      "execution_count": 11,
      "outputs": [
        {
          "output_type": "execute_result",
          "data": {
            "text/plain": [
              "['id',\n",
              " 'Season',\n",
              " 'city',\n",
              " 'date',\n",
              " 'team1',\n",
              " 'team2',\n",
              " 'toss_winner',\n",
              " 'toss_decision',\n",
              " 'result',\n",
              " 'dl_applied',\n",
              " 'winner',\n",
              " 'win_by_runs',\n",
              " 'win_by_wickets',\n",
              " 'player_of_match',\n",
              " 'venue',\n",
              " 'umpire1',\n",
              " 'umpire2',\n",
              " 'umpire3']"
            ]
          },
          "metadata": {
            "tags": []
          },
          "execution_count": 11
        }
      ]
    },
    {
      "cell_type": "code",
      "metadata": {
        "id": "Vm7ahH9Y7DG_",
        "outputId": "a80b5869-7fa9-4c38-fb30-89c3257661d6",
        "colab": {
          "base_uri": "https://localhost:8080/"
        }
      },
      "source": [
        "matches_df['result'].unique()"
      ],
      "execution_count": 12,
      "outputs": [
        {
          "output_type": "execute_result",
          "data": {
            "text/plain": [
              "array(['normal', 'tie', 'no result'], dtype=object)"
            ]
          },
          "metadata": {
            "tags": []
          },
          "execution_count": 12
        }
      ]
    },
    {
      "cell_type": "code",
      "metadata": {
        "id": "miQ9van_7hG8",
        "outputId": "6bd727bb-c143-422e-f7d8-ede544c3b69f",
        "colab": {
          "base_uri": "https://localhost:8080/"
        }
      },
      "source": [
        "matches_df['dl_applied'].unique()"
      ],
      "execution_count": 13,
      "outputs": [
        {
          "output_type": "execute_result",
          "data": {
            "text/plain": [
              "array([0, 1])"
            ]
          },
          "metadata": {
            "tags": []
          },
          "execution_count": 13
        }
      ]
    },
    {
      "cell_type": "code",
      "metadata": {
        "id": "hPMUvywV7gVt"
      },
      "source": [
        ""
      ],
      "execution_count": 13,
      "outputs": []
    },
    {
      "cell_type": "markdown",
      "metadata": {
        "id": "3DrSz_rO4j75"
      },
      "source": [
        "there are 18 column in our matches dataset.let's know which column signify what values"
      ]
    },
    {
      "cell_type": "markdown",
      "metadata": {
        "id": "4nSH1jH35IB2"
      },
      "source": [
        "1.id :match id\n",
        "\n",
        "2.Season:Season of the IPL match\n",
        "\n",
        "3.city:which city IPL match was heald\n",
        "\n",
        "4.date:date of the IPL match\n",
        "\n",
        "5.team1:One of the teams of the IPL match\n",
        "\n",
        "6.team2:other teams of the IPL match\n",
        "\n",
        "7:toss_winner:the team which won the toss\n",
        "\n",
        "8.toss_decision:it is decided by toss winning team it may either fild or bat\n",
        "\n",
        "9.result:result is one of the values in our list ['normal', 'tie', 'no result']\n",
        "\n",
        "10:dl_applied: it is binary type it may be 0 or 1\n",
        "\n",
        "11.winner:winner of the match \n",
        "\n",
        "12.win_by_runs:winning team won the match by how much run\n",
        "\n",
        "13.win_by_wickets:winning team won the match by how much wicket\n",
        "\n",
        "14.player_of_match:who is the best performer of the match in winnning team\n",
        "\n",
        "15:venue:name of the play ground\n",
        "\n",
        "16.umpire1:STRAIGHT umpire\n",
        "\n",
        "17.umpire2: SQUARE LEG umpire\n",
        "\n",
        "18:umpire3:third umpire who has access to video replays"
      ]
    },
    {
      "cell_type": "code",
      "metadata": {
        "id": "moHGW68j48Do",
        "outputId": "bb59a3c2-0288-407e-a9d3-93f92e073373",
        "colab": {
          "base_uri": "https://localhost:8080/"
        }
      },
      "source": [
        "matches_df.info()"
      ],
      "execution_count": 14,
      "outputs": [
        {
          "output_type": "stream",
          "text": [
            "<class 'pandas.core.frame.DataFrame'>\n",
            "RangeIndex: 756 entries, 0 to 755\n",
            "Data columns (total 18 columns):\n",
            " #   Column           Non-Null Count  Dtype \n",
            "---  ------           --------------  ----- \n",
            " 0   id               756 non-null    int64 \n",
            " 1   Season           756 non-null    object\n",
            " 2   city             749 non-null    object\n",
            " 3   date             756 non-null    object\n",
            " 4   team1            756 non-null    object\n",
            " 5   team2            756 non-null    object\n",
            " 6   toss_winner      756 non-null    object\n",
            " 7   toss_decision    756 non-null    object\n",
            " 8   result           756 non-null    object\n",
            " 9   dl_applied       756 non-null    int64 \n",
            " 10  winner           752 non-null    object\n",
            " 11  win_by_runs      756 non-null    int64 \n",
            " 12  win_by_wickets   756 non-null    int64 \n",
            " 13  player_of_match  752 non-null    object\n",
            " 14  venue            756 non-null    object\n",
            " 15  umpire1          754 non-null    object\n",
            " 16  umpire2          754 non-null    object\n",
            " 17  umpire3          119 non-null    object\n",
            "dtypes: int64(4), object(14)\n",
            "memory usage: 106.4+ KB\n"
          ],
          "name": "stdout"
        }
      ]
    },
    {
      "cell_type": "code",
      "metadata": {
        "id": "sBOTEQ40y6wH",
        "outputId": "a717aad8-eba4-4cbc-95ab-80ab42995e5a",
        "colab": {
          "base_uri": "https://localhost:8080/"
        }
      },
      "source": [
        "matches_df.isnull().values.sum()\n"
      ],
      "execution_count": 15,
      "outputs": [
        {
          "output_type": "execute_result",
          "data": {
            "text/plain": [
              "656"
            ]
          },
          "metadata": {
            "tags": []
          },
          "execution_count": 15
        }
      ]
    },
    {
      "cell_type": "markdown",
      "metadata": {
        "id": "dGyxbD_NBH3M"
      },
      "source": [
        "In our matches data set some null values in city , winner, player_of_match , venue ,umpire 1,umpire 2 and umpire 3 columns"
      ]
    },
    {
      "cell_type": "code",
      "metadata": {
        "id": "eay4CBKdB5Eq",
        "outputId": "6aa4d8d2-3510-4f8a-d330-a02afa421d8d",
        "colab": {
          "base_uri": "https://localhost:8080/",
          "height": 284
        }
      },
      "source": [
        "matches_df.describe()"
      ],
      "execution_count": 16,
      "outputs": [
        {
          "output_type": "execute_result",
          "data": {
            "text/html": [
              "<div>\n",
              "<style scoped>\n",
              "    .dataframe tbody tr th:only-of-type {\n",
              "        vertical-align: middle;\n",
              "    }\n",
              "\n",
              "    .dataframe tbody tr th {\n",
              "        vertical-align: top;\n",
              "    }\n",
              "\n",
              "    .dataframe thead th {\n",
              "        text-align: right;\n",
              "    }\n",
              "</style>\n",
              "<table border=\"1\" class=\"dataframe\">\n",
              "  <thead>\n",
              "    <tr style=\"text-align: right;\">\n",
              "      <th></th>\n",
              "      <th>id</th>\n",
              "      <th>dl_applied</th>\n",
              "      <th>win_by_runs</th>\n",
              "      <th>win_by_wickets</th>\n",
              "    </tr>\n",
              "  </thead>\n",
              "  <tbody>\n",
              "    <tr>\n",
              "      <th>count</th>\n",
              "      <td>756.000000</td>\n",
              "      <td>756.000000</td>\n",
              "      <td>756.000000</td>\n",
              "      <td>756.000000</td>\n",
              "    </tr>\n",
              "    <tr>\n",
              "      <th>mean</th>\n",
              "      <td>1792.178571</td>\n",
              "      <td>0.025132</td>\n",
              "      <td>13.283069</td>\n",
              "      <td>3.350529</td>\n",
              "    </tr>\n",
              "    <tr>\n",
              "      <th>std</th>\n",
              "      <td>3464.478148</td>\n",
              "      <td>0.156630</td>\n",
              "      <td>23.471144</td>\n",
              "      <td>3.387963</td>\n",
              "    </tr>\n",
              "    <tr>\n",
              "      <th>min</th>\n",
              "      <td>1.000000</td>\n",
              "      <td>0.000000</td>\n",
              "      <td>0.000000</td>\n",
              "      <td>0.000000</td>\n",
              "    </tr>\n",
              "    <tr>\n",
              "      <th>25%</th>\n",
              "      <td>189.750000</td>\n",
              "      <td>0.000000</td>\n",
              "      <td>0.000000</td>\n",
              "      <td>0.000000</td>\n",
              "    </tr>\n",
              "    <tr>\n",
              "      <th>50%</th>\n",
              "      <td>378.500000</td>\n",
              "      <td>0.000000</td>\n",
              "      <td>0.000000</td>\n",
              "      <td>4.000000</td>\n",
              "    </tr>\n",
              "    <tr>\n",
              "      <th>75%</th>\n",
              "      <td>567.250000</td>\n",
              "      <td>0.000000</td>\n",
              "      <td>19.000000</td>\n",
              "      <td>6.000000</td>\n",
              "    </tr>\n",
              "    <tr>\n",
              "      <th>max</th>\n",
              "      <td>11415.000000</td>\n",
              "      <td>1.000000</td>\n",
              "      <td>146.000000</td>\n",
              "      <td>10.000000</td>\n",
              "    </tr>\n",
              "  </tbody>\n",
              "</table>\n",
              "</div>"
            ],
            "text/plain": [
              "                 id  dl_applied  win_by_runs  win_by_wickets\n",
              "count    756.000000  756.000000   756.000000      756.000000\n",
              "mean    1792.178571    0.025132    13.283069        3.350529\n",
              "std     3464.478148    0.156630    23.471144        3.387963\n",
              "min        1.000000    0.000000     0.000000        0.000000\n",
              "25%      189.750000    0.000000     0.000000        0.000000\n",
              "50%      378.500000    0.000000     0.000000        4.000000\n",
              "75%      567.250000    0.000000    19.000000        6.000000\n",
              "max    11415.000000    1.000000   146.000000       10.000000"
            ]
          },
          "metadata": {
            "tags": []
          },
          "execution_count": 16
        }
      ]
    },
    {
      "cell_type": "code",
      "metadata": {
        "id": "OTCQpvDkCKRg",
        "outputId": "e03f5249-7787-4c3a-fbb9-474f869c2e00",
        "colab": {
          "base_uri": "https://localhost:8080/"
        }
      },
      "source": [
        "matches_df['team1'].unique()"
      ],
      "execution_count": 17,
      "outputs": [
        {
          "output_type": "execute_result",
          "data": {
            "text/plain": [
              "array(['Sunrisers Hyderabad', 'Mumbai Indians', 'Gujarat Lions',\n",
              "       'Rising Pune Supergiant', 'Royal Challengers Bangalore',\n",
              "       'Kolkata Knight Riders', 'Delhi Daredevils', 'Kings XI Punjab',\n",
              "       'Chennai Super Kings', 'Rajasthan Royals', 'Deccan Chargers',\n",
              "       'Kochi Tuskers Kerala', 'Pune Warriors', 'Rising Pune Supergiants',\n",
              "       'Delhi Capitals'], dtype=object)"
            ]
          },
          "metadata": {
            "tags": []
          },
          "execution_count": 17
        }
      ]
    },
    {
      "cell_type": "code",
      "metadata": {
        "id": "9i2zYH6WCKVC",
        "outputId": "2e1286bf-72af-442b-b000-00f16923e9d1",
        "colab": {
          "base_uri": "https://localhost:8080/"
        }
      },
      "source": [
        "len(matches_df['team1'].unique())"
      ],
      "execution_count": 18,
      "outputs": [
        {
          "output_type": "execute_result",
          "data": {
            "text/plain": [
              "15"
            ]
          },
          "metadata": {
            "tags": []
          },
          "execution_count": 18
        }
      ]
    },
    {
      "cell_type": "code",
      "metadata": {
        "id": "ozaKQRAlCKZN",
        "outputId": "de398470-40a6-49c4-f347-d4e7cf70b3db",
        "colab": {
          "base_uri": "https://localhost:8080/"
        }
      },
      "source": [
        "matches_df['team2'].unique()"
      ],
      "execution_count": 19,
      "outputs": [
        {
          "output_type": "execute_result",
          "data": {
            "text/plain": [
              "array(['Royal Challengers Bangalore', 'Rising Pune Supergiant',\n",
              "       'Kolkata Knight Riders', 'Kings XI Punjab', 'Delhi Daredevils',\n",
              "       'Sunrisers Hyderabad', 'Mumbai Indians', 'Gujarat Lions',\n",
              "       'Rajasthan Royals', 'Chennai Super Kings', 'Deccan Chargers',\n",
              "       'Pune Warriors', 'Kochi Tuskers Kerala', 'Rising Pune Supergiants',\n",
              "       'Delhi Capitals'], dtype=object)"
            ]
          },
          "metadata": {
            "tags": []
          },
          "execution_count": 19
        }
      ]
    },
    {
      "cell_type": "code",
      "metadata": {
        "id": "9HB47DGwCKck",
        "outputId": "f74ce9d5-f66b-4c2f-f75b-79b0526816dc",
        "colab": {
          "base_uri": "https://localhost:8080/"
        }
      },
      "source": [
        "len(matches_df['team2'].unique())"
      ],
      "execution_count": 20,
      "outputs": [
        {
          "output_type": "execute_result",
          "data": {
            "text/plain": [
              "15"
            ]
          },
          "metadata": {
            "tags": []
          },
          "execution_count": 20
        }
      ]
    },
    {
      "cell_type": "code",
      "metadata": {
        "id": "1F6ui1DTTKyc",
        "outputId": "5cfdf97d-bce3-4839-9855-dabdeecd1dbc",
        "colab": {
          "base_uri": "https://localhost:8080/"
        }
      },
      "source": [
        "list(matches_df['Season'].unique())"
      ],
      "execution_count": 21,
      "outputs": [
        {
          "output_type": "execute_result",
          "data": {
            "text/plain": [
              "['IPL-2017',\n",
              " 'IPL-2008',\n",
              " 'IPL-2009',\n",
              " 'IPL-2010',\n",
              " 'IPL-2011',\n",
              " 'IPL-2012',\n",
              " 'IPL-2013',\n",
              " 'IPL-2014',\n",
              " 'IPL-2015',\n",
              " 'IPL-2016',\n",
              " 'IPL-2018',\n",
              " 'IPL-2019']"
            ]
          },
          "metadata": {
            "tags": []
          },
          "execution_count": 21
        }
      ]
    },
    {
      "cell_type": "markdown",
      "metadata": {
        "id": "pkhpLaTpTe3u"
      },
      "source": [
        "This matches data set contain folling season of IPL match\n",
        "\n",
        "1.IPL-2017\n",
        "\n",
        "2.IPL-2008\n",
        "\n",
        "3.IPL-2009\n",
        "\n",
        "4.IPL-2010\n",
        "\n",
        "5.IPL-2011\n",
        "\n",
        "6.IPL-2012\n",
        "\n",
        "7.IPL-2013\n",
        "\n",
        "8.IPL-2014\n",
        "\n",
        "9.IPL-2015\n",
        "\n",
        "10.IPL-2016\n",
        "\n",
        "11.IPL-2018\n",
        "\n",
        "12.IPL-2019"
      ]
    },
    {
      "cell_type": "markdown",
      "metadata": {
        "id": "1XBGwFX7CpWt"
      },
      "source": [
        "Both team 1 and team 2 have 15 unique team"
      ]
    },
    {
      "cell_type": "code",
      "metadata": {
        "id": "3s9W5mx_48Gv"
      },
      "source": [
        "win_df=matches_df['winner'].value_counts().reset_index()"
      ],
      "execution_count": 22,
      "outputs": []
    },
    {
      "cell_type": "code",
      "metadata": {
        "id": "0n9hideaE7Q3",
        "outputId": "c36433d5-5836-4659-ebbd-71de24e24208",
        "colab": {
          "base_uri": "https://localhost:8080/",
          "height": 195
        }
      },
      "source": [
        "win_df.head()"
      ],
      "execution_count": 23,
      "outputs": [
        {
          "output_type": "execute_result",
          "data": {
            "text/html": [
              "<div>\n",
              "<style scoped>\n",
              "    .dataframe tbody tr th:only-of-type {\n",
              "        vertical-align: middle;\n",
              "    }\n",
              "\n",
              "    .dataframe tbody tr th {\n",
              "        vertical-align: top;\n",
              "    }\n",
              "\n",
              "    .dataframe thead th {\n",
              "        text-align: right;\n",
              "    }\n",
              "</style>\n",
              "<table border=\"1\" class=\"dataframe\">\n",
              "  <thead>\n",
              "    <tr style=\"text-align: right;\">\n",
              "      <th></th>\n",
              "      <th>index</th>\n",
              "      <th>winner</th>\n",
              "    </tr>\n",
              "  </thead>\n",
              "  <tbody>\n",
              "    <tr>\n",
              "      <th>0</th>\n",
              "      <td>Mumbai Indians</td>\n",
              "      <td>109</td>\n",
              "    </tr>\n",
              "    <tr>\n",
              "      <th>1</th>\n",
              "      <td>Chennai Super Kings</td>\n",
              "      <td>100</td>\n",
              "    </tr>\n",
              "    <tr>\n",
              "      <th>2</th>\n",
              "      <td>Kolkata Knight Riders</td>\n",
              "      <td>92</td>\n",
              "    </tr>\n",
              "    <tr>\n",
              "      <th>3</th>\n",
              "      <td>Royal Challengers Bangalore</td>\n",
              "      <td>84</td>\n",
              "    </tr>\n",
              "    <tr>\n",
              "      <th>4</th>\n",
              "      <td>Kings XI Punjab</td>\n",
              "      <td>82</td>\n",
              "    </tr>\n",
              "  </tbody>\n",
              "</table>\n",
              "</div>"
            ],
            "text/plain": [
              "                         index  winner\n",
              "0               Mumbai Indians     109\n",
              "1          Chennai Super Kings     100\n",
              "2        Kolkata Knight Riders      92\n",
              "3  Royal Challengers Bangalore      84\n",
              "4              Kings XI Punjab      82"
            ]
          },
          "metadata": {
            "tags": []
          },
          "execution_count": 23
        }
      ]
    },
    {
      "cell_type": "code",
      "metadata": {
        "id": "yrgwvXyNJIwj",
        "outputId": "21b8e03a-8255-4942-9cb2-c479a7cacf3c",
        "colab": {
          "base_uri": "https://localhost:8080/",
          "height": 195
        }
      },
      "source": [
        "win_df.tail()"
      ],
      "execution_count": 24,
      "outputs": [
        {
          "output_type": "execute_result",
          "data": {
            "text/html": [
              "<div>\n",
              "<style scoped>\n",
              "    .dataframe tbody tr th:only-of-type {\n",
              "        vertical-align: middle;\n",
              "    }\n",
              "\n",
              "    .dataframe tbody tr th {\n",
              "        vertical-align: top;\n",
              "    }\n",
              "\n",
              "    .dataframe thead th {\n",
              "        text-align: right;\n",
              "    }\n",
              "</style>\n",
              "<table border=\"1\" class=\"dataframe\">\n",
              "  <thead>\n",
              "    <tr style=\"text-align: right;\">\n",
              "      <th></th>\n",
              "      <th>index</th>\n",
              "      <th>winner</th>\n",
              "    </tr>\n",
              "  </thead>\n",
              "  <tbody>\n",
              "    <tr>\n",
              "      <th>10</th>\n",
              "      <td>Pune Warriors</td>\n",
              "      <td>12</td>\n",
              "    </tr>\n",
              "    <tr>\n",
              "      <th>11</th>\n",
              "      <td>Rising Pune Supergiant</td>\n",
              "      <td>10</td>\n",
              "    </tr>\n",
              "    <tr>\n",
              "      <th>12</th>\n",
              "      <td>Delhi Capitals</td>\n",
              "      <td>10</td>\n",
              "    </tr>\n",
              "    <tr>\n",
              "      <th>13</th>\n",
              "      <td>Kochi Tuskers Kerala</td>\n",
              "      <td>6</td>\n",
              "    </tr>\n",
              "    <tr>\n",
              "      <th>14</th>\n",
              "      <td>Rising Pune Supergiants</td>\n",
              "      <td>5</td>\n",
              "    </tr>\n",
              "  </tbody>\n",
              "</table>\n",
              "</div>"
            ],
            "text/plain": [
              "                      index  winner\n",
              "10            Pune Warriors      12\n",
              "11   Rising Pune Supergiant      10\n",
              "12           Delhi Capitals      10\n",
              "13     Kochi Tuskers Kerala       6\n",
              "14  Rising Pune Supergiants       5"
            ]
          },
          "metadata": {
            "tags": []
          },
          "execution_count": 24
        }
      ]
    },
    {
      "cell_type": "code",
      "metadata": {
        "id": "QejATGplDJ0x",
        "outputId": "7c14829a-2d1c-4e6c-d9a8-6e3424579348",
        "colab": {
          "base_uri": "https://localhost:8080/",
          "height": 772
        }
      },
      "source": [
        "ax=win_df.plot(x='index',y='winner',kind='bar',figsize=(18,10))\n",
        "ax.set_xlabel('Team Name')\n",
        "ax.set_ylabel('Number Of Times Winner')\n",
        "ax.set_title('which teams win How much times')\n"
      ],
      "execution_count": 25,
      "outputs": [
        {
          "output_type": "execute_result",
          "data": {
            "text/plain": [
              "Text(0.5, 1.0, 'which teams win How much times')"
            ]
          },
          "metadata": {
            "tags": []
          },
          "execution_count": 25
        },
        {
          "output_type": "display_data",
          "data": {
            "image/png": "[encoded data removed]",
            "text/plain": [
              "<Figure size 1296x720 with 1 Axes>"
            ]
          },
          "metadata": {
            "tags": [],
            "needs_background": "light"
          }
        }
      ]
    },
    {
      "cell_type": "markdown",
      "metadata": {
        "id": "3LrXthmrJQeQ"
      },
      "source": [
        "This graph shows that Mumbai indians team won the match highest numbers of time that is 109, chennai Super King won the match 2nd highest time that is 100 and Kolkata King Riders won the match 3rd highest time that is  92"
      ]
    },
    {
      "cell_type": "markdown",
      "metadata": {
        "id": "9Eb3EP7GKODe"
      },
      "source": [
        "This graph also shows that Rising Pune Supergiants won the match least number of times  that is 5,Kochi Tuskers Kerala won the match second  least number of times that is 6 and Delhi Capitals  and Rising Pune Supergiant won the match third  least number times that is 10"
      ]
    },
    {
      "cell_type": "code",
      "metadata": {
        "id": "4ztDmjgPDJ4Y"
      },
      "source": [
        "city_df=matches_df['city'].value_counts().reset_index()"
      ],
      "execution_count": 26,
      "outputs": []
    },
    {
      "cell_type": "code",
      "metadata": {
        "id": "O4mn2LMjDJ7f",
        "outputId": "71aadaf4-8bb0-42af-ebfb-6c6ce2dc1d2b",
        "colab": {
          "base_uri": "https://localhost:8080/",
          "height": 195
        }
      },
      "source": [
        "city_df.head()"
      ],
      "execution_count": 27,
      "outputs": [
        {
          "output_type": "execute_result",
          "data": {
            "text/html": [
              "<div>\n",
              "<style scoped>\n",
              "    .dataframe tbody tr th:only-of-type {\n",
              "        vertical-align: middle;\n",
              "    }\n",
              "\n",
              "    .dataframe tbody tr th {\n",
              "        vertical-align: top;\n",
              "    }\n",
              "\n",
              "    .dataframe thead th {\n",
              "        text-align: right;\n",
              "    }\n",
              "</style>\n",
              "<table border=\"1\" class=\"dataframe\">\n",
              "  <thead>\n",
              "    <tr style=\"text-align: right;\">\n",
              "      <th></th>\n",
              "      <th>index</th>\n",
              "      <th>city</th>\n",
              "    </tr>\n",
              "  </thead>\n",
              "  <tbody>\n",
              "    <tr>\n",
              "      <th>0</th>\n",
              "      <td>Mumbai</td>\n",
              "      <td>101</td>\n",
              "    </tr>\n",
              "    <tr>\n",
              "      <th>1</th>\n",
              "      <td>Kolkata</td>\n",
              "      <td>77</td>\n",
              "    </tr>\n",
              "    <tr>\n",
              "      <th>2</th>\n",
              "      <td>Delhi</td>\n",
              "      <td>74</td>\n",
              "    </tr>\n",
              "    <tr>\n",
              "      <th>3</th>\n",
              "      <td>Bangalore</td>\n",
              "      <td>66</td>\n",
              "    </tr>\n",
              "    <tr>\n",
              "      <th>4</th>\n",
              "      <td>Hyderabad</td>\n",
              "      <td>64</td>\n",
              "    </tr>\n",
              "  </tbody>\n",
              "</table>\n",
              "</div>"
            ],
            "text/plain": [
              "       index  city\n",
              "0     Mumbai   101\n",
              "1    Kolkata    77\n",
              "2      Delhi    74\n",
              "3  Bangalore    66\n",
              "4  Hyderabad    64"
            ]
          },
          "metadata": {
            "tags": []
          },
          "execution_count": 27
        }
      ]
    },
    {
      "cell_type": "code",
      "metadata": {
        "id": "bzWMrynhZRiK",
        "outputId": "710d0396-cb27-4c56-de5a-c0457ff627ae",
        "colab": {
          "base_uri": "https://localhost:8080/",
          "height": 343
        }
      },
      "source": [
        "city_df.tail(10)"
      ],
      "execution_count": 28,
      "outputs": [
        {
          "output_type": "execute_result",
          "data": {
            "text/html": [
              "<div>\n",
              "<style scoped>\n",
              "    .dataframe tbody tr th:only-of-type {\n",
              "        vertical-align: middle;\n",
              "    }\n",
              "\n",
              "    .dataframe tbody tr th {\n",
              "        vertical-align: top;\n",
              "    }\n",
              "\n",
              "    .dataframe thead th {\n",
              "        text-align: right;\n",
              "    }\n",
              "</style>\n",
              "<table border=\"1\" class=\"dataframe\">\n",
              "  <thead>\n",
              "    <tr style=\"text-align: right;\">\n",
              "      <th></th>\n",
              "      <th>index</th>\n",
              "      <th>city</th>\n",
              "    </tr>\n",
              "  </thead>\n",
              "  <tbody>\n",
              "    <tr>\n",
              "      <th>22</th>\n",
              "      <td>Cape Town</td>\n",
              "      <td>7</td>\n",
              "    </tr>\n",
              "    <tr>\n",
              "      <th>23</th>\n",
              "      <td>Cuttack</td>\n",
              "      <td>7</td>\n",
              "    </tr>\n",
              "    <tr>\n",
              "      <th>24</th>\n",
              "      <td>Sharjah</td>\n",
              "      <td>6</td>\n",
              "    </tr>\n",
              "    <tr>\n",
              "      <th>25</th>\n",
              "      <td>Raipur</td>\n",
              "      <td>6</td>\n",
              "    </tr>\n",
              "    <tr>\n",
              "      <th>26</th>\n",
              "      <td>Kochi</td>\n",
              "      <td>5</td>\n",
              "    </tr>\n",
              "    <tr>\n",
              "      <th>27</th>\n",
              "      <td>Kanpur</td>\n",
              "      <td>4</td>\n",
              "    </tr>\n",
              "    <tr>\n",
              "      <th>28</th>\n",
              "      <td>East London</td>\n",
              "      <td>3</td>\n",
              "    </tr>\n",
              "    <tr>\n",
              "      <th>29</th>\n",
              "      <td>Kimberley</td>\n",
              "      <td>3</td>\n",
              "    </tr>\n",
              "    <tr>\n",
              "      <th>30</th>\n",
              "      <td>Nagpur</td>\n",
              "      <td>3</td>\n",
              "    </tr>\n",
              "    <tr>\n",
              "      <th>31</th>\n",
              "      <td>Bloemfontein</td>\n",
              "      <td>2</td>\n",
              "    </tr>\n",
              "  </tbody>\n",
              "</table>\n",
              "</div>"
            ],
            "text/plain": [
              "           index  city\n",
              "22     Cape Town     7\n",
              "23       Cuttack     7\n",
              "24       Sharjah     6\n",
              "25        Raipur     6\n",
              "26         Kochi     5\n",
              "27        Kanpur     4\n",
              "28   East London     3\n",
              "29     Kimberley     3\n",
              "30        Nagpur     3\n",
              "31  Bloemfontein     2"
            ]
          },
          "metadata": {
            "tags": []
          },
          "execution_count": 28
        }
      ]
    },
    {
      "cell_type": "code",
      "metadata": {
        "id": "tl9Qbs2KDJ-8",
        "outputId": "943514ad-bb2f-417e-e5b0-324a83da8bca",
        "colab": {
          "base_uri": "https://localhost:8080/",
          "height": 706
        }
      },
      "source": [
        "bx=city_df.plot(x='index',y='city',kind='bar',figsize=(20,10))\n",
        "bx.set_xlabel('City Name')\n",
        "bx.set_ylabel('Number of times match happened')\n",
        "bx.set_title(' City-match graph')"
      ],
      "execution_count": 29,
      "outputs": [
        {
          "output_type": "execute_result",
          "data": {
            "text/plain": [
              "Text(0.5, 1.0, ' City-match graph')"
            ]
          },
          "metadata": {
            "tags": []
          },
          "execution_count": 29
        },
        {
          "output_type": "display_data",
          "data": {
            "image/png": "[encoded data removed]",
            "text/plain": [
              "<Figure size 1440x720 with 1 Axes>"
            ]
          },
          "metadata": {
            "tags": [],
            "needs_background": "light"
          }
        }
      ]
    },
    {
      "cell_type": "markdown",
      "metadata": {
        "id": "MouzKcHRZfV1"
      },
      "source": [
        "This graph shows that most number IPL match are played in Mumbai City  that is that 101,second most match are played in Kolkata city that is 77 and third most match are played in Delhi city that is 74"
      ]
    },
    {
      "cell_type": "markdown",
      "metadata": {
        "id": "LOLV3HQvbkdw"
      },
      "source": [
        "This graph also shows that least number of IPL match are played in  Bloemfontein city that is 2 ,second least number of IPL match are played in Kimberley city,Nagpur city ,East London  City that is 3 and third least number of IPL match are played in Kanpur city that is 4"
      ]
    },
    {
      "cell_type": "code",
      "metadata": {
        "id": "Oz_NtRN848KK"
      },
      "source": [
        "win_max_run=matches_df.groupby('winner')['win_by_runs'].max().reset_index()"
      ],
      "execution_count": 30,
      "outputs": []
    },
    {
      "cell_type": "code",
      "metadata": {
        "id": "y0JBRaiwgYV0"
      },
      "source": [
        "win_max_wicket=matches_df.groupby('winner')['win_by_wickets'].max().reset_index()"
      ],
      "execution_count": 31,
      "outputs": []
    },
    {
      "cell_type": "code",
      "metadata": {
        "id": "fbvNAUp0gjnJ"
      },
      "source": [
        "win_run_wicket_df=win_max_run.merge(win_max_wicket,how='inner')"
      ],
      "execution_count": 32,
      "outputs": []
    },
    {
      "cell_type": "code",
      "metadata": {
        "id": "baTAFhlpg6D2",
        "outputId": "5e8707f1-e41f-49c9-e0a6-5e53e5298de9",
        "colab": {
          "base_uri": "https://localhost:8080/",
          "height": 284
        }
      },
      "source": [
        "win_run_wicket_df.describe()"
      ],
      "execution_count": 33,
      "outputs": [
        {
          "output_type": "execute_result",
          "data": {
            "text/html": [
              "<div>\n",
              "<style scoped>\n",
              "    .dataframe tbody tr th:only-of-type {\n",
              "        vertical-align: middle;\n",
              "    }\n",
              "\n",
              "    .dataframe tbody tr th {\n",
              "        vertical-align: top;\n",
              "    }\n",
              "\n",
              "    .dataframe thead th {\n",
              "        text-align: right;\n",
              "    }\n",
              "</style>\n",
              "<table border=\"1\" class=\"dataframe\">\n",
              "  <thead>\n",
              "    <tr style=\"text-align: right;\">\n",
              "      <th></th>\n",
              "      <th>win_by_runs</th>\n",
              "      <th>win_by_wickets</th>\n",
              "    </tr>\n",
              "  </thead>\n",
              "  <tbody>\n",
              "    <tr>\n",
              "      <th>count</th>\n",
              "      <td>15.000000</td>\n",
              "      <td>15.000000</td>\n",
              "    </tr>\n",
              "    <tr>\n",
              "      <th>mean</th>\n",
              "      <td>82.000000</td>\n",
              "      <td>9.133333</td>\n",
              "    </tr>\n",
              "    <tr>\n",
              "      <th>std</th>\n",
              "      <td>47.611523</td>\n",
              "      <td>1.245946</td>\n",
              "    </tr>\n",
              "    <tr>\n",
              "      <th>min</th>\n",
              "      <td>1.000000</td>\n",
              "      <td>7.000000</td>\n",
              "    </tr>\n",
              "    <tr>\n",
              "      <th>25%</th>\n",
              "      <td>38.500000</td>\n",
              "      <td>8.500000</td>\n",
              "    </tr>\n",
              "    <tr>\n",
              "      <th>50%</th>\n",
              "      <td>97.000000</td>\n",
              "      <td>10.000000</td>\n",
              "    </tr>\n",
              "    <tr>\n",
              "      <th>75%</th>\n",
              "      <td>114.500000</td>\n",
              "      <td>10.000000</td>\n",
              "    </tr>\n",
              "    <tr>\n",
              "      <th>max</th>\n",
              "      <td>146.000000</td>\n",
              "      <td>10.000000</td>\n",
              "    </tr>\n",
              "  </tbody>\n",
              "</table>\n",
              "</div>"
            ],
            "text/plain": [
              "       win_by_runs  win_by_wickets\n",
              "count    15.000000       15.000000\n",
              "mean     82.000000        9.133333\n",
              "std      47.611523        1.245946\n",
              "min       1.000000        7.000000\n",
              "25%      38.500000        8.500000\n",
              "50%      97.000000       10.000000\n",
              "75%     114.500000       10.000000\n",
              "max     146.000000       10.000000"
            ]
          },
          "metadata": {
            "tags": []
          },
          "execution_count": 33
        }
      ]
    },
    {
      "cell_type": "code",
      "metadata": {
        "id": "ihp6AugfeAxf",
        "outputId": "938fc971-8d08-4791-af18-6a4859765565",
        "colab": {
          "base_uri": "https://localhost:8080/",
          "height": 772
        }
      },
      "source": [
        "cx=win_run_wicket_df.plot(x='winner',y=['win_by_runs','win_by_wickets'],kind='bar',figsize=(20,10))\n",
        "cx.set_xlabel('Teams Name')\n",
        "cx.set_ylabel('RUn/wicket')\n",
        "cx.set_title('Team win by maximum run and maximun wicket')"
      ],
      "execution_count": 34,
      "outputs": [
        {
          "output_type": "execute_result",
          "data": {
            "text/plain": [
              "Text(0.5, 1.0, 'Team win by maximum run and maximun wicket')"
            ]
          },
          "metadata": {
            "tags": []
          },
          "execution_count": 34
        },
        {
          "output_type": "display_data",
          "data": {
            "image/png": "[encoded data removed]",
            "text/plain": [
              "<Figure size 1440x720 with 1 Axes>"
            ]
          },
          "metadata": {
            "tags": [],
            "needs_background": "light"
          }
        }
      ]
    },
    {
      "cell_type": "markdown",
      "metadata": {
        "id": "myutcPEzmN3E"
      },
      "source": [
        "This graph shows that Mumbai Indians is own by highest run in IPL  and most of the teams won by 10 wicket in IPL data set"
      ]
    },
    {
      "cell_type": "code",
      "metadata": {
        "id": "dDPBj9_veA4e"
      },
      "source": [
        "player_of_match_df=matches_df['player_of_match'].value_counts().reset_index()"
      ],
      "execution_count": 35,
      "outputs": []
    },
    {
      "cell_type": "code",
      "metadata": {
        "id": "rbmBrrrweA8Y",
        "outputId": "428009dc-ba6c-4120-bcea-64284ea4a104",
        "colab": {
          "base_uri": "https://localhost:8080/",
          "height": 195
        }
      },
      "source": [
        "player_of_match_df.head()"
      ],
      "execution_count": 36,
      "outputs": [
        {
          "output_type": "execute_result",
          "data": {
            "text/html": [
              "<div>\n",
              "<style scoped>\n",
              "    .dataframe tbody tr th:only-of-type {\n",
              "        vertical-align: middle;\n",
              "    }\n",
              "\n",
              "    .dataframe tbody tr th {\n",
              "        vertical-align: top;\n",
              "    }\n",
              "\n",
              "    .dataframe thead th {\n",
              "        text-align: right;\n",
              "    }\n",
              "</style>\n",
              "<table border=\"1\" class=\"dataframe\">\n",
              "  <thead>\n",
              "    <tr style=\"text-align: right;\">\n",
              "      <th></th>\n",
              "      <th>index</th>\n",
              "      <th>player_of_match</th>\n",
              "    </tr>\n",
              "  </thead>\n",
              "  <tbody>\n",
              "    <tr>\n",
              "      <th>0</th>\n",
              "      <td>CH Gayle</td>\n",
              "      <td>21</td>\n",
              "    </tr>\n",
              "    <tr>\n",
              "      <th>1</th>\n",
              "      <td>AB de Villiers</td>\n",
              "      <td>20</td>\n",
              "    </tr>\n",
              "    <tr>\n",
              "      <th>2</th>\n",
              "      <td>RG Sharma</td>\n",
              "      <td>17</td>\n",
              "    </tr>\n",
              "    <tr>\n",
              "      <th>3</th>\n",
              "      <td>DA Warner</td>\n",
              "      <td>17</td>\n",
              "    </tr>\n",
              "    <tr>\n",
              "      <th>4</th>\n",
              "      <td>MS Dhoni</td>\n",
              "      <td>17</td>\n",
              "    </tr>\n",
              "  </tbody>\n",
              "</table>\n",
              "</div>"
            ],
            "text/plain": [
              "            index  player_of_match\n",
              "0        CH Gayle               21\n",
              "1  AB de Villiers               20\n",
              "2       RG Sharma               17\n",
              "3       DA Warner               17\n",
              "4        MS Dhoni               17"
            ]
          },
          "metadata": {
            "tags": []
          },
          "execution_count": 36
        }
      ]
    },
    {
      "cell_type": "code",
      "metadata": {
        "id": "dJWmwZ0CeA0e",
        "outputId": "ec3e5e34-0819-465b-cf45-cb12c33af216",
        "colab": {
          "base_uri": "https://localhost:8080/",
          "height": 918
        }
      },
      "source": [
        "dx=player_of_match_df.plot(x='index',y='player_of_match',kind='bar',figsize=(50,30))\n",
        "dx.set_xlabel('Players Name')\n",
        "dx.set_ylabel('Numbers of times take the player of the match')\n",
        "dx.set_title('player of the match ')"
      ],
      "execution_count": 37,
      "outputs": [
        {
          "output_type": "execute_result",
          "data": {
            "text/plain": [
              "Text(0.5, 1.0, 'player of the match ')"
            ]
          },
          "metadata": {
            "tags": []
          },
          "execution_count": 37
        },
        {
          "output_type": "display_data",
          "data": {
            "image/png": "[encoded data removed]",
            "text/plain": [
              "<Figure size 3600x2160 with 1 Axes>"
            ]
          },
          "metadata": {
            "tags": [],
            "needs_background": "light"
          }
        }
      ]
    },
    {
      "cell_type": "code",
      "metadata": {
        "id": "HE4cXsgawi-_",
        "outputId": "4e05892f-9a10-435c-b5f9-ac31398b06f6",
        "colab": {
          "base_uri": "https://localhost:8080/",
          "height": 284
        }
      },
      "source": [
        "player_of_match_df.describe()"
      ],
      "execution_count": 38,
      "outputs": [
        {
          "output_type": "execute_result",
          "data": {
            "text/html": [
              "<div>\n",
              "<style scoped>\n",
              "    .dataframe tbody tr th:only-of-type {\n",
              "        vertical-align: middle;\n",
              "    }\n",
              "\n",
              "    .dataframe tbody tr th {\n",
              "        vertical-align: top;\n",
              "    }\n",
              "\n",
              "    .dataframe thead th {\n",
              "        text-align: right;\n",
              "    }\n",
              "</style>\n",
              "<table border=\"1\" class=\"dataframe\">\n",
              "  <thead>\n",
              "    <tr style=\"text-align: right;\">\n",
              "      <th></th>\n",
              "      <th>player_of_match</th>\n",
              "    </tr>\n",
              "  </thead>\n",
              "  <tbody>\n",
              "    <tr>\n",
              "      <th>count</th>\n",
              "      <td>226.000000</td>\n",
              "    </tr>\n",
              "    <tr>\n",
              "      <th>mean</th>\n",
              "      <td>3.327434</td>\n",
              "    </tr>\n",
              "    <tr>\n",
              "      <th>std</th>\n",
              "      <td>3.736766</td>\n",
              "    </tr>\n",
              "    <tr>\n",
              "      <th>min</th>\n",
              "      <td>1.000000</td>\n",
              "    </tr>\n",
              "    <tr>\n",
              "      <th>25%</th>\n",
              "      <td>1.000000</td>\n",
              "    </tr>\n",
              "    <tr>\n",
              "      <th>50%</th>\n",
              "      <td>2.000000</td>\n",
              "    </tr>\n",
              "    <tr>\n",
              "      <th>75%</th>\n",
              "      <td>4.000000</td>\n",
              "    </tr>\n",
              "    <tr>\n",
              "      <th>max</th>\n",
              "      <td>21.000000</td>\n",
              "    </tr>\n",
              "  </tbody>\n",
              "</table>\n",
              "</div>"
            ],
            "text/plain": [
              "       player_of_match\n",
              "count       226.000000\n",
              "mean          3.327434\n",
              "std           3.736766\n",
              "min           1.000000\n",
              "25%           1.000000\n",
              "50%           2.000000\n",
              "75%           4.000000\n",
              "max          21.000000"
            ]
          },
          "metadata": {
            "tags": []
          },
          "execution_count": 38
        }
      ]
    },
    {
      "cell_type": "code",
      "metadata": {
        "id": "O3ZMdij9wy7R",
        "outputId": "cd716bd5-83e1-4800-ace6-874192124e51",
        "colab": {
          "base_uri": "https://localhost:8080/"
        }
      },
      "source": [
        "#find mean \n",
        "np.mean(player_of_match_df['player_of_match'])"
      ],
      "execution_count": 39,
      "outputs": [
        {
          "output_type": "execute_result",
          "data": {
            "text/plain": [
              "3.327433628318584"
            ]
          },
          "metadata": {
            "tags": []
          },
          "execution_count": 39
        }
      ]
    },
    {
      "cell_type": "code",
      "metadata": {
        "id": "vdzzGxyVw-XE",
        "outputId": "94978665-ca9b-4b42-b83a-81a1174f3cef",
        "colab": {
          "base_uri": "https://localhost:8080/"
        }
      },
      "source": [
        "#find the median\n",
        "np.median(player_of_match_df['player_of_match'])"
      ],
      "execution_count": 40,
      "outputs": [
        {
          "output_type": "execute_result",
          "data": {
            "text/plain": [
              "2.0"
            ]
          },
          "metadata": {
            "tags": []
          },
          "execution_count": 40
        }
      ]
    },
    {
      "cell_type": "code",
      "metadata": {
        "id": "StgXcOTTxGX7",
        "outputId": "d5ce32e0-827e-4b3f-897a-889254fd9dc7",
        "colab": {
          "base_uri": "https://localhost:8080/"
        }
      },
      "source": [
        "#find mode\n",
        "statistics.mode(player_of_match_df['player_of_match'])"
      ],
      "execution_count": 41,
      "outputs": [
        {
          "output_type": "execute_result",
          "data": {
            "text/plain": [
              "1"
            ]
          },
          "metadata": {
            "tags": []
          },
          "execution_count": 41
        }
      ]
    },
    {
      "cell_type": "markdown",
      "metadata": {
        "id": "hsD5-kyDsepG"
      },
      "source": [
        "This graph shows that CH gayle have taken 21 times player of the match tropy,AB de Villiers have taken 20  times player of the trophy  and RG Sharma\t,MS Dhoni\tand DA Warner\t have taken 17 times player of the match\n",
        "\n",
        "This graph looks likes positive skew distribution because most of values are lies in left part of our graph\n",
        "\n",
        "positively skewed (or right-skewed) distribution is a type of distribution in which most values are clustered around the left tail of the distribution while the right tail of the distribution is longer.hear mean>median>mode\n",
        "\n",
        "\n",
        "negatively skewed (also known as left-skewed) distribution is a type of distribution in which more values are concentrated on the right side (tail) of the distribution graph while the left tail of the distribution graph is longer.hear mean<median<mode"
      ]
    },
    {
      "cell_type": "code",
      "metadata": {
        "id": "gmHA5lgVy_wT"
      },
      "source": [
        "match_win_df=matches_df.groupby(['team1','team2'])['winner'].count()"
      ],
      "execution_count": 42,
      "outputs": []
    },
    {
      "cell_type": "code",
      "metadata": {
        "id": "hGSXygJs3HuJ"
      },
      "source": [
        ""
      ],
      "execution_count": 42,
      "outputs": []
    },
    {
      "cell_type": "code",
      "metadata": {
        "id": "VpCC_-iDaEYh",
        "outputId": "28ebcce3-b7a3-477e-8000-0e6c0c2b8e53",
        "colab": {
          "base_uri": "https://localhost:8080/"
        }
      },
      "source": [
        "len(match_win_df)"
      ],
      "execution_count": 43,
      "outputs": [
        {
          "output_type": "execute_result",
          "data": {
            "text/plain": [
              "139"
            ]
          },
          "metadata": {
            "tags": []
          },
          "execution_count": 43
        }
      ]
    },
    {
      "cell_type": "code",
      "metadata": {
        "id": "pqiTDWHn0X-7",
        "outputId": "b30b28ea-9c80-4732-9378-ad7d0411c750",
        "colab": {
          "base_uri": "https://localhost:8080/"
        }
      },
      "source": [
        "match_win_df.head(60)"
      ],
      "execution_count": 44,
      "outputs": [
        {
          "output_type": "execute_result",
          "data": {
            "text/plain": [
              "team1                 team2                      \n",
              "Chennai Super Kings   Deccan Chargers                 8\n",
              "                      Delhi Capitals                  1\n",
              "                      Delhi Daredevils               12\n",
              "                      Kings XI Punjab                11\n",
              "                      Kochi Tuskers Kerala            2\n",
              "                      Kolkata Knight Riders          12\n",
              "                      Mumbai Indians                 12\n",
              "                      Pune Warriors                   4\n",
              "                      Rajasthan Royals               12\n",
              "                      Royal Challengers Bangalore    10\n",
              "                      Sunrisers Hyderabad             5\n",
              "Deccan Chargers       Chennai Super Kings             2\n",
              "                      Delhi Daredevils                8\n",
              "                      Kings XI Punjab                 7\n",
              "                      Kochi Tuskers Kerala            1\n",
              "                      Kolkata Knight Riders           2\n",
              "                      Mumbai Indians                  5\n",
              "                      Pune Warriors                   3\n",
              "                      Rajasthan Royals                7\n",
              "                      Royal Challengers Bangalore     8\n",
              "Delhi Capitals        Chennai Super Kings             2\n",
              "                      Mumbai Indians                  1\n",
              "                      Royal Challengers Bangalore     1\n",
              "                      Sunrisers Hyderabad             2\n",
              "Delhi Daredevils      Chennai Super Kings             6\n",
              "                      Deccan Chargers                 3\n",
              "                      Kings XI Punjab                11\n",
              "                      Kochi Tuskers Kerala            2\n",
              "                      Kolkata Knight Riders          10\n",
              "                      Mumbai Indians                  6\n",
              "                      Pune Warriors                   1\n",
              "                      Rajasthan Royals               10\n",
              "                      Rising Pune Supergiant          2\n",
              "                      Rising Pune Supergiants         2\n",
              "                      Royal Challengers Bangalore    11\n",
              "                      Sunrisers Hyderabad             6\n",
              "Gujarat Lions         Delhi Daredevils                4\n",
              "                      Kolkata Knight Riders           1\n",
              "                      Mumbai Indians                  2\n",
              "                      Rising Pune Supergiant          1\n",
              "                      Royal Challengers Bangalore     1\n",
              "                      Sunrisers Hyderabad             5\n",
              "Kings XI Punjab       Chennai Super Kings            10\n",
              "                      Deccan Chargers                 3\n",
              "                      Delhi Capitals                  2\n",
              "                      Delhi Daredevils               11\n",
              "                      Gujarat Lions                   4\n",
              "                      Kolkata Knight Riders          17\n",
              "                      Mumbai Indians                 15\n",
              "                      Pune Warriors                   2\n",
              "                      Rajasthan Royals               10\n",
              "                      Rising Pune Supergiant          1\n",
              "                      Rising Pune Supergiants         1\n",
              "                      Royal Challengers Bangalore    10\n",
              "                      Sunrisers Hyderabad             5\n",
              "Kochi Tuskers Kerala  Kings XI Punjab                 1\n",
              "                      Kolkata Knight Riders           2\n",
              "                      Pune Warriors                   1\n",
              "                      Rajasthan Royals                1\n",
              "                      Royal Challengers Bangalore     2\n",
              "Name: winner, dtype: int64"
            ]
          },
          "metadata": {
            "tags": []
          },
          "execution_count": 44
        }
      ]
    },
    {
      "cell_type": "code",
      "metadata": {
        "id": "JcyRCAm1aVk6",
        "outputId": "f3ca0c0e-7378-45b1-e535-f367240b869e",
        "colab": {
          "base_uri": "https://localhost:8080/"
        }
      },
      "source": [
        "match_win_df.tail(60)"
      ],
      "execution_count": 45,
      "outputs": [
        {
          "output_type": "execute_result",
          "data": {
            "text/plain": [
              "team1                        team2                      \n",
              "Mumbai Indians               Kolkata Knight Riders          11\n",
              "                             Pune Warriors                   3\n",
              "                             Rajasthan Royals               14\n",
              "                             Rising Pune Supergiant          2\n",
              "                             Rising Pune Supergiants         1\n",
              "                             Royal Challengers Bangalore    13\n",
              "                             Sunrisers Hyderabad             7\n",
              "Pune Warriors                Chennai Super Kings             2\n",
              "                             Deccan Chargers                 1\n",
              "                             Delhi Daredevils                4\n",
              "                             Kings XI Punjab                 4\n",
              "                             Kolkata Knight Riders           2\n",
              "                             Mumbai Indians                  3\n",
              "                             Rajasthan Royals                3\n",
              "                             Royal Challengers Bangalore     1\n",
              "Rajasthan Royals             Chennai Super Kings             9\n",
              "                             Deccan Chargers                 2\n",
              "                             Delhi Capitals                  2\n",
              "                             Delhi Daredevils                8\n",
              "                             Kings XI Punjab                 9\n",
              "                             Kochi Tuskers Kerala            1\n",
              "                             Kolkata Knight Riders          17\n",
              "                             Mumbai Indians                  6\n",
              "                             Pune Warriors                   2\n",
              "                             Royal Challengers Bangalore     9\n",
              "                             Sunrisers Hyderabad             2\n",
              "Rising Pune Supergiant       Gujarat Lions                   1\n",
              "                             Kings XI Punjab                 1\n",
              "                             Kolkata Knight Riders           1\n",
              "                             Mumbai Indians                  2\n",
              "                             Royal Challengers Bangalore     2\n",
              "                             Sunrisers Hyderabad             1\n",
              "Rising Pune Supergiants      Gujarat Lions                   2\n",
              "                             Kings XI Punjab                 1\n",
              "                             Kolkata Knight Riders           2\n",
              "                             Mumbai Indians                  1\n",
              "                             Royal Challengers Bangalore     1\n",
              "Royal Challengers Bangalore  Chennai Super Kings            13\n",
              "                             Deccan Chargers                 3\n",
              "                             Delhi Capitals                  1\n",
              "                             Delhi Daredevils                9\n",
              "                             Gujarat Lions                   4\n",
              "                             Kings XI Punjab                14\n",
              "                             Kolkata Knight Riders           8\n",
              "                             Mumbai Indians                 12\n",
              "                             Pune Warriors                   4\n",
              "                             Rajasthan Royals                9\n",
              "                             Rising Pune Supergiants         1\n",
              "                             Sunrisers Hyderabad             5\n",
              "Sunrisers Hyderabad          Chennai Super Kings             7\n",
              "                             Delhi Capitals                  1\n",
              "                             Delhi Daredevils                6\n",
              "                             Kings XI Punjab                 9\n",
              "                             Kolkata Knight Riders          10\n",
              "                             Mumbai Indians                  7\n",
              "                             Pune Warriors                   2\n",
              "                             Rajasthan Royals                9\n",
              "                             Rising Pune Supergiant          1\n",
              "                             Rising Pune Supergiants         2\n",
              "                             Royal Challengers Bangalore     9\n",
              "Name: winner, dtype: int64"
            ]
          },
          "metadata": {
            "tags": []
          },
          "execution_count": 45
        }
      ]
    },
    {
      "cell_type": "markdown",
      "metadata": {
        "id": "I26iNzwda1_V"
      },
      "source": [
        "The above data set gives when team1 match with team2 ,how many times team1 won the match"
      ]
    },
    {
      "cell_type": "code",
      "metadata": {
        "id": "U6ixnYd0axLw"
      },
      "source": [
        "venue_df=matches_df['venue'].value_counts().reset_index()"
      ],
      "execution_count": 46,
      "outputs": []
    },
    {
      "cell_type": "code",
      "metadata": {
        "id": "G8ASHmtKchKT",
        "outputId": "98e4a978-6f4c-4ea5-a416-aa98082915fe",
        "colab": {
          "base_uri": "https://localhost:8080/",
          "height": 1000
        }
      },
      "source": [
        "venue_df"
      ],
      "execution_count": 47,
      "outputs": [
        {
          "output_type": "execute_result",
          "data": {
            "text/html": [
              "<div>\n",
              "<style scoped>\n",
              "    .dataframe tbody tr th:only-of-type {\n",
              "        vertical-align: middle;\n",
              "    }\n",
              "\n",
              "    .dataframe tbody tr th {\n",
              "        vertical-align: top;\n",
              "    }\n",
              "\n",
              "    .dataframe thead th {\n",
              "        text-align: right;\n",
              "    }\n",
              "</style>\n",
              "<table border=\"1\" class=\"dataframe\">\n",
              "  <thead>\n",
              "    <tr style=\"text-align: right;\">\n",
              "      <th></th>\n",
              "      <th>index</th>\n",
              "      <th>venue</th>\n",
              "    </tr>\n",
              "  </thead>\n",
              "  <tbody>\n",
              "    <tr>\n",
              "      <th>0</th>\n",
              "      <td>Eden Gardens</td>\n",
              "      <td>77</td>\n",
              "    </tr>\n",
              "    <tr>\n",
              "      <th>1</th>\n",
              "      <td>Wankhede Stadium</td>\n",
              "      <td>73</td>\n",
              "    </tr>\n",
              "    <tr>\n",
              "      <th>2</th>\n",
              "      <td>M Chinnaswamy Stadium</td>\n",
              "      <td>73</td>\n",
              "    </tr>\n",
              "    <tr>\n",
              "      <th>3</th>\n",
              "      <td>Feroz Shah Kotla</td>\n",
              "      <td>67</td>\n",
              "    </tr>\n",
              "    <tr>\n",
              "      <th>4</th>\n",
              "      <td>Rajiv Gandhi International Stadium, Uppal</td>\n",
              "      <td>56</td>\n",
              "    </tr>\n",
              "    <tr>\n",
              "      <th>5</th>\n",
              "      <td>MA Chidambaram Stadium, Chepauk</td>\n",
              "      <td>49</td>\n",
              "    </tr>\n",
              "    <tr>\n",
              "      <th>6</th>\n",
              "      <td>Sawai Mansingh Stadium</td>\n",
              "      <td>47</td>\n",
              "    </tr>\n",
              "    <tr>\n",
              "      <th>7</th>\n",
              "      <td>Punjab Cricket Association Stadium, Mohali</td>\n",
              "      <td>35</td>\n",
              "    </tr>\n",
              "    <tr>\n",
              "      <th>8</th>\n",
              "      <td>Maharashtra Cricket Association Stadium</td>\n",
              "      <td>21</td>\n",
              "    </tr>\n",
              "    <tr>\n",
              "      <th>9</th>\n",
              "      <td>Subrata Roy Sahara Stadium</td>\n",
              "      <td>17</td>\n",
              "    </tr>\n",
              "    <tr>\n",
              "      <th>10</th>\n",
              "      <td>Dr DY Patil Sports Academy</td>\n",
              "      <td>17</td>\n",
              "    </tr>\n",
              "    <tr>\n",
              "      <th>11</th>\n",
              "      <td>Kingsmead</td>\n",
              "      <td>15</td>\n",
              "    </tr>\n",
              "    <tr>\n",
              "      <th>12</th>\n",
              "      <td>Punjab Cricket Association IS Bindra Stadium, ...</td>\n",
              "      <td>14</td>\n",
              "    </tr>\n",
              "    <tr>\n",
              "      <th>13</th>\n",
              "      <td>Sardar Patel Stadium, Motera</td>\n",
              "      <td>12</td>\n",
              "    </tr>\n",
              "    <tr>\n",
              "      <th>14</th>\n",
              "      <td>SuperSport Park</td>\n",
              "      <td>12</td>\n",
              "    </tr>\n",
              "    <tr>\n",
              "      <th>15</th>\n",
              "      <td>Dr. Y.S. Rajasekhara Reddy ACA-VDCA Cricket St...</td>\n",
              "      <td>11</td>\n",
              "    </tr>\n",
              "    <tr>\n",
              "      <th>16</th>\n",
              "      <td>Brabourne Stadium</td>\n",
              "      <td>11</td>\n",
              "    </tr>\n",
              "    <tr>\n",
              "      <th>17</th>\n",
              "      <td>Saurashtra Cricket Association Stadium</td>\n",
              "      <td>10</td>\n",
              "    </tr>\n",
              "    <tr>\n",
              "      <th>18</th>\n",
              "      <td>Holkar Cricket Stadium</td>\n",
              "      <td>9</td>\n",
              "    </tr>\n",
              "    <tr>\n",
              "      <th>19</th>\n",
              "      <td>Himachal Pradesh Cricket Association Stadium</td>\n",
              "      <td>9</td>\n",
              "    </tr>\n",
              "    <tr>\n",
              "      <th>20</th>\n",
              "      <td>Rajiv Gandhi Intl. Cricket Stadium</td>\n",
              "      <td>8</td>\n",
              "    </tr>\n",
              "    <tr>\n",
              "      <th>21</th>\n",
              "      <td>New Wanderers Stadium</td>\n",
              "      <td>8</td>\n",
              "    </tr>\n",
              "    <tr>\n",
              "      <th>22</th>\n",
              "      <td>M. A. Chidambaram Stadium</td>\n",
              "      <td>8</td>\n",
              "    </tr>\n",
              "    <tr>\n",
              "      <th>23</th>\n",
              "      <td>Feroz Shah Kotla Ground</td>\n",
              "      <td>7</td>\n",
              "    </tr>\n",
              "    <tr>\n",
              "      <th>24</th>\n",
              "      <td>JSCA International Stadium Complex</td>\n",
              "      <td>7</td>\n",
              "    </tr>\n",
              "    <tr>\n",
              "      <th>25</th>\n",
              "      <td>St George's Park</td>\n",
              "      <td>7</td>\n",
              "    </tr>\n",
              "    <tr>\n",
              "      <th>26</th>\n",
              "      <td>Dubai International Cricket Stadium</td>\n",
              "      <td>7</td>\n",
              "    </tr>\n",
              "    <tr>\n",
              "      <th>27</th>\n",
              "      <td>Barabati Stadium</td>\n",
              "      <td>7</td>\n",
              "    </tr>\n",
              "    <tr>\n",
              "      <th>28</th>\n",
              "      <td>M. Chinnaswamy Stadium</td>\n",
              "      <td>7</td>\n",
              "    </tr>\n",
              "    <tr>\n",
              "      <th>29</th>\n",
              "      <td>Newlands</td>\n",
              "      <td>7</td>\n",
              "    </tr>\n",
              "    <tr>\n",
              "      <th>30</th>\n",
              "      <td>Sheikh Zayed Stadium</td>\n",
              "      <td>7</td>\n",
              "    </tr>\n",
              "    <tr>\n",
              "      <th>31</th>\n",
              "      <td>IS Bindra Stadium</td>\n",
              "      <td>7</td>\n",
              "    </tr>\n",
              "    <tr>\n",
              "      <th>32</th>\n",
              "      <td>Sharjah Cricket Stadium</td>\n",
              "      <td>6</td>\n",
              "    </tr>\n",
              "    <tr>\n",
              "      <th>33</th>\n",
              "      <td>Shaheed Veer Narayan Singh International Stadium</td>\n",
              "      <td>6</td>\n",
              "    </tr>\n",
              "    <tr>\n",
              "      <th>34</th>\n",
              "      <td>Nehru Stadium</td>\n",
              "      <td>5</td>\n",
              "    </tr>\n",
              "    <tr>\n",
              "      <th>35</th>\n",
              "      <td>Green Park</td>\n",
              "      <td>4</td>\n",
              "    </tr>\n",
              "    <tr>\n",
              "      <th>36</th>\n",
              "      <td>Vidarbha Cricket Association Stadium, Jamtha</td>\n",
              "      <td>3</td>\n",
              "    </tr>\n",
              "    <tr>\n",
              "      <th>37</th>\n",
              "      <td>De Beers Diamond Oval</td>\n",
              "      <td>3</td>\n",
              "    </tr>\n",
              "    <tr>\n",
              "      <th>38</th>\n",
              "      <td>Buffalo Park</td>\n",
              "      <td>3</td>\n",
              "    </tr>\n",
              "    <tr>\n",
              "      <th>39</th>\n",
              "      <td>ACA-VDCA Stadium</td>\n",
              "      <td>2</td>\n",
              "    </tr>\n",
              "    <tr>\n",
              "      <th>40</th>\n",
              "      <td>OUTsurance Oval</td>\n",
              "      <td>2</td>\n",
              "    </tr>\n",
              "  </tbody>\n",
              "</table>\n",
              "</div>"
            ],
            "text/plain": [
              "                                                index  venue\n",
              "0                                        Eden Gardens     77\n",
              "1                                    Wankhede Stadium     73\n",
              "2                               M Chinnaswamy Stadium     73\n",
              "3                                    Feroz Shah Kotla     67\n",
              "4           Rajiv Gandhi International Stadium, Uppal     56\n",
              "5                     MA Chidambaram Stadium, Chepauk     49\n",
              "6                              Sawai Mansingh Stadium     47\n",
              "7          Punjab Cricket Association Stadium, Mohali     35\n",
              "8             Maharashtra Cricket Association Stadium     21\n",
              "9                          Subrata Roy Sahara Stadium     17\n",
              "10                         Dr DY Patil Sports Academy     17\n",
              "11                                          Kingsmead     15\n",
              "12  Punjab Cricket Association IS Bindra Stadium, ...     14\n",
              "13                       Sardar Patel Stadium, Motera     12\n",
              "14                                    SuperSport Park     12\n",
              "15  Dr. Y.S. Rajasekhara Reddy ACA-VDCA Cricket St...     11\n",
              "16                                  Brabourne Stadium     11\n",
              "17             Saurashtra Cricket Association Stadium     10\n",
              "18                             Holkar Cricket Stadium      9\n",
              "19       Himachal Pradesh Cricket Association Stadium      9\n",
              "20                 Rajiv Gandhi Intl. Cricket Stadium      8\n",
              "21                              New Wanderers Stadium      8\n",
              "22                          M. A. Chidambaram Stadium      8\n",
              "23                            Feroz Shah Kotla Ground      7\n",
              "24                 JSCA International Stadium Complex      7\n",
              "25                                   St George's Park      7\n",
              "26                Dubai International Cricket Stadium      7\n",
              "27                                   Barabati Stadium      7\n",
              "28                             M. Chinnaswamy Stadium      7\n",
              "29                                           Newlands      7\n",
              "30                               Sheikh Zayed Stadium      7\n",
              "31                                  IS Bindra Stadium      7\n",
              "32                            Sharjah Cricket Stadium      6\n",
              "33   Shaheed Veer Narayan Singh International Stadium      6\n",
              "34                                      Nehru Stadium      5\n",
              "35                                         Green Park      4\n",
              "36       Vidarbha Cricket Association Stadium, Jamtha      3\n",
              "37                              De Beers Diamond Oval      3\n",
              "38                                       Buffalo Park      3\n",
              "39                                   ACA-VDCA Stadium      2\n",
              "40                                    OUTsurance Oval      2"
            ]
          },
          "metadata": {
            "tags": []
          },
          "execution_count": 47
        }
      ]
    },
    {
      "cell_type": "code",
      "metadata": {
        "id": "E6O4clmmx_AR",
        "outputId": "b8ee815d-a270-47f5-8fa1-6780d904d890",
        "colab": {
          "base_uri": "https://localhost:8080/",
          "height": 762
        }
      },
      "source": [
        "plt.figure(figsize=(25,15))\n",
        "plt.title(\"venue vs Number of match\")\n",
        "sns.barplot(x = 'venue', y = 'index', data = venue_df) "
      ],
      "execution_count": 105,
      "outputs": [
        {
          "output_type": "execute_result",
          "data": {
            "text/plain": [
              "<matplotlib.axes._subplots.AxesSubplot at 0x7f29139cd908>"
            ]
          },
          "metadata": {
            "tags": []
          },
          "execution_count": 105
        },
        {
          "output_type": "display_data",
          "data": {
            "image/png": "[encoded data removed]",
            "text/plain": [
              "<Figure size 1800x1080 with 1 Axes>"
            ]
          },
          "metadata": {
            "tags": [],
            "needs_background": "light"
          }
        }
      ]
    },
    {
      "cell_type": "markdown",
      "metadata": {
        "id": "ZEf6UwyBPWtL"
      },
      "source": [
        "This graph shows that most of the match are playing in Eden gardens second most matches are playing  in Wankhede Stadium and M Chinnaswamy Stadium and third most matches are playing in Feroz Shah Kotla\t\n"
      ]
    },
    {
      "cell_type": "markdown",
      "metadata": {
        "id": "WZwRTp43Qt8i"
      },
      "source": [
        "this graph also shows that least number of matches are playing in OUTsurance Oval\t and ACA-VDCA Stadium"
      ]
    },
    {
      "cell_type": "code",
      "metadata": {
        "id": "W5pmzPRdx_D2"
      },
      "source": [
        "season_win_df = matches_df.groupby('Season')['winner'].value_counts()\n"
      ],
      "execution_count": 49,
      "outputs": []
    },
    {
      "cell_type": "code",
      "metadata": {
        "id": "-lZPT3tSBd49",
        "outputId": "2eb0233c-6cd5-4ac5-9f62-3167fb6b970f",
        "colab": {
          "base_uri": "https://localhost:8080/"
        }
      },
      "source": [
        " matches_df.groupby('Season')['winner'].value_counts()"
      ],
      "execution_count": 50,
      "outputs": [
        {
          "output_type": "execute_result",
          "data": {
            "text/plain": [
              "Season    winner                     \n",
              "IPL-2008  Rajasthan Royals               13\n",
              "          Kings XI Punjab                10\n",
              "          Chennai Super Kings             9\n",
              "          Delhi Daredevils                7\n",
              "          Mumbai Indians                  7\n",
              "                                         ..\n",
              "IPL-2019  Kings XI Punjab                 6\n",
              "          Kolkata Knight Riders           6\n",
              "          Sunrisers Hyderabad             6\n",
              "          Rajasthan Royals                5\n",
              "          Royal Challengers Bangalore     5\n",
              "Name: winner, Length: 100, dtype: int64"
            ]
          },
          "metadata": {
            "tags": []
          },
          "execution_count": 50
        }
      ]
    },
    {
      "cell_type": "code",
      "metadata": {
        "id": "leFAHwRVFLQi"
      },
      "source": [
        "year = 2008\n",
        "win_per_season_df = pd.DataFrame(columns=['year', 'team', 'Number_of_times_wins'])\n",
        "for items in season_win_df.iteritems():\n",
        "  my_year= items[0][0].split('-')   \n",
        "  if int(my_year[1])==year:\n",
        "    win_series = ({\n",
        "            'year': items[0][0],\n",
        "            'team': items[0][1],\n",
        "            'Number_of_times_wins': items[1]\n",
        "        })\n",
        "    win_per_season_df = win_per_season_df.append(win_series,ignore_index=True)\n",
        "    year += 1 "
      ],
      "execution_count": 51,
      "outputs": []
    },
    {
      "cell_type": "code",
      "metadata": {
        "id": "IVykyvhOFLXe",
        "outputId": "0227bb2d-0986-40f4-b9e5-514ec955959b",
        "colab": {
          "base_uri": "https://localhost:8080/",
          "height": 402
        }
      },
      "source": [
        "win_per_season_df"
      ],
      "execution_count": 52,
      "outputs": [
        {
          "output_type": "execute_result",
          "data": {
            "text/html": [
              "<div>\n",
              "<style scoped>\n",
              "    .dataframe tbody tr th:only-of-type {\n",
              "        vertical-align: middle;\n",
              "    }\n",
              "\n",
              "    .dataframe tbody tr th {\n",
              "        vertical-align: top;\n",
              "    }\n",
              "\n",
              "    .dataframe thead th {\n",
              "        text-align: right;\n",
              "    }\n",
              "</style>\n",
              "<table border=\"1\" class=\"dataframe\">\n",
              "  <thead>\n",
              "    <tr style=\"text-align: right;\">\n",
              "      <th></th>\n",
              "      <th>year</th>\n",
              "      <th>team</th>\n",
              "      <th>Number_of_times_wins</th>\n",
              "    </tr>\n",
              "  </thead>\n",
              "  <tbody>\n",
              "    <tr>\n",
              "      <th>0</th>\n",
              "      <td>IPL-2008</td>\n",
              "      <td>Rajasthan Royals</td>\n",
              "      <td>13</td>\n",
              "    </tr>\n",
              "    <tr>\n",
              "      <th>1</th>\n",
              "      <td>IPL-2009</td>\n",
              "      <td>Delhi Daredevils</td>\n",
              "      <td>10</td>\n",
              "    </tr>\n",
              "    <tr>\n",
              "      <th>2</th>\n",
              "      <td>IPL-2010</td>\n",
              "      <td>Mumbai Indians</td>\n",
              "      <td>11</td>\n",
              "    </tr>\n",
              "    <tr>\n",
              "      <th>3</th>\n",
              "      <td>IPL-2011</td>\n",
              "      <td>Chennai Super Kings</td>\n",
              "      <td>11</td>\n",
              "    </tr>\n",
              "    <tr>\n",
              "      <th>4</th>\n",
              "      <td>IPL-2012</td>\n",
              "      <td>Kolkata Knight Riders</td>\n",
              "      <td>12</td>\n",
              "    </tr>\n",
              "    <tr>\n",
              "      <th>5</th>\n",
              "      <td>IPL-2013</td>\n",
              "      <td>Mumbai Indians</td>\n",
              "      <td>13</td>\n",
              "    </tr>\n",
              "    <tr>\n",
              "      <th>6</th>\n",
              "      <td>IPL-2014</td>\n",
              "      <td>Kings XI Punjab</td>\n",
              "      <td>12</td>\n",
              "    </tr>\n",
              "    <tr>\n",
              "      <th>7</th>\n",
              "      <td>IPL-2015</td>\n",
              "      <td>Chennai Super Kings</td>\n",
              "      <td>10</td>\n",
              "    </tr>\n",
              "    <tr>\n",
              "      <th>8</th>\n",
              "      <td>IPL-2016</td>\n",
              "      <td>Sunrisers Hyderabad</td>\n",
              "      <td>11</td>\n",
              "    </tr>\n",
              "    <tr>\n",
              "      <th>9</th>\n",
              "      <td>IPL-2017</td>\n",
              "      <td>Mumbai Indians</td>\n",
              "      <td>12</td>\n",
              "    </tr>\n",
              "    <tr>\n",
              "      <th>10</th>\n",
              "      <td>IPL-2018</td>\n",
              "      <td>Chennai Super Kings</td>\n",
              "      <td>11</td>\n",
              "    </tr>\n",
              "    <tr>\n",
              "      <th>11</th>\n",
              "      <td>IPL-2019</td>\n",
              "      <td>Mumbai Indians</td>\n",
              "      <td>11</td>\n",
              "    </tr>\n",
              "  </tbody>\n",
              "</table>\n",
              "</div>"
            ],
            "text/plain": [
              "        year                   team Number_of_times_wins\n",
              "0   IPL-2008       Rajasthan Royals                   13\n",
              "1   IPL-2009       Delhi Daredevils                   10\n",
              "2   IPL-2010         Mumbai Indians                   11\n",
              "3   IPL-2011    Chennai Super Kings                   11\n",
              "4   IPL-2012  Kolkata Knight Riders                   12\n",
              "5   IPL-2013         Mumbai Indians                   13\n",
              "6   IPL-2014        Kings XI Punjab                   12\n",
              "7   IPL-2015    Chennai Super Kings                   10\n",
              "8   IPL-2016    Sunrisers Hyderabad                   11\n",
              "9   IPL-2017         Mumbai Indians                   12\n",
              "10  IPL-2018    Chennai Super Kings                   11\n",
              "11  IPL-2019         Mumbai Indians                   11"
            ]
          },
          "metadata": {
            "tags": []
          },
          "execution_count": 52
        }
      ]
    },
    {
      "cell_type": "markdown",
      "metadata": {
        "id": "9l-eZjkgM7cJ"
      },
      "source": [
        "The above data gives us in which year which teams won the match maximun times like in IPL-2008 Rajasthan Royals win the match 13 number of times "
      ]
    },
    {
      "cell_type": "markdown",
      "metadata": {
        "id": "59-B-PgJYnUN"
      },
      "source": [
        "# 3.Dataset :most_runs_average_strikerate.csv"
      ]
    },
    {
      "cell_type": "code",
      "metadata": {
        "id": "siq3MYf0Xw_E"
      },
      "source": [
        "#load the data set\n",
        "working_directory = '/content/drive/My Drive/AlmaBetter/Cohort Aravali/Module 2/Week 1/dat/'\n",
        "striker_df = pd.read_csv(working_directory + 'most_runs_average_strikerate.csv')"
      ],
      "execution_count": 53,
      "outputs": []
    },
    {
      "cell_type": "markdown",
      "metadata": {
        "id": "gRvaqE0hAO60"
      },
      "source": [
        "striker data set contain following columns\n",
        "\n",
        "1.batsman:name of the batsman\n",
        "\n",
        "2.total_runs:total runs made by batsman\n",
        "\n",
        "3.out:How many times they are out\n",
        "\n",
        "4.average:total_run/total_number of they play\n",
        "\n",
        "5.strikerate: strike rate (s/r) is defined for a batsman as the average number of runs scored per 100 balls faced.The higher the strike rate, the more effective a batsman is at scoring quickly."
      ]
    },
    {
      "cell_type": "code",
      "metadata": {
        "id": "CLPtpktUBeA-",
        "outputId": "e2a86b26-efff-4b50-db03-ae9ad12533f2",
        "colab": {
          "base_uri": "https://localhost:8080/",
          "height": 195
        }
      },
      "source": [
        "striker_df.head()"
      ],
      "execution_count": 54,
      "outputs": [
        {
          "output_type": "execute_result",
          "data": {
            "text/html": [
              "<div>\n",
              "<style scoped>\n",
              "    .dataframe tbody tr th:only-of-type {\n",
              "        vertical-align: middle;\n",
              "    }\n",
              "\n",
              "    .dataframe tbody tr th {\n",
              "        vertical-align: top;\n",
              "    }\n",
              "\n",
              "    .dataframe thead th {\n",
              "        text-align: right;\n",
              "    }\n",
              "</style>\n",
              "<table border=\"1\" class=\"dataframe\">\n",
              "  <thead>\n",
              "    <tr style=\"text-align: right;\">\n",
              "      <th></th>\n",
              "      <th>batsman</th>\n",
              "      <th>total_runs</th>\n",
              "      <th>out</th>\n",
              "      <th>numberofballs</th>\n",
              "      <th>average</th>\n",
              "      <th>strikerate</th>\n",
              "    </tr>\n",
              "  </thead>\n",
              "  <tbody>\n",
              "    <tr>\n",
              "      <th>0</th>\n",
              "      <td>V Kohli</td>\n",
              "      <td>5426</td>\n",
              "      <td>152</td>\n",
              "      <td>4111</td>\n",
              "      <td>35.697368</td>\n",
              "      <td>131.987351</td>\n",
              "    </tr>\n",
              "    <tr>\n",
              "      <th>1</th>\n",
              "      <td>SK Raina</td>\n",
              "      <td>5386</td>\n",
              "      <td>160</td>\n",
              "      <td>3916</td>\n",
              "      <td>33.662500</td>\n",
              "      <td>137.538304</td>\n",
              "    </tr>\n",
              "    <tr>\n",
              "      <th>2</th>\n",
              "      <td>RG Sharma</td>\n",
              "      <td>4902</td>\n",
              "      <td>161</td>\n",
              "      <td>3742</td>\n",
              "      <td>30.447205</td>\n",
              "      <td>130.999466</td>\n",
              "    </tr>\n",
              "    <tr>\n",
              "      <th>3</th>\n",
              "      <td>DA Warner</td>\n",
              "      <td>4717</td>\n",
              "      <td>114</td>\n",
              "      <td>3292</td>\n",
              "      <td>41.377193</td>\n",
              "      <td>143.286756</td>\n",
              "    </tr>\n",
              "    <tr>\n",
              "      <th>4</th>\n",
              "      <td>S Dhawan</td>\n",
              "      <td>4601</td>\n",
              "      <td>137</td>\n",
              "      <td>3665</td>\n",
              "      <td>33.583942</td>\n",
              "      <td>125.538881</td>\n",
              "    </tr>\n",
              "  </tbody>\n",
              "</table>\n",
              "</div>"
            ],
            "text/plain": [
              "     batsman  total_runs  out  numberofballs    average  strikerate\n",
              "0    V Kohli        5426  152           4111  35.697368  131.987351\n",
              "1   SK Raina        5386  160           3916  33.662500  137.538304\n",
              "2  RG Sharma        4902  161           3742  30.447205  130.999466\n",
              "3  DA Warner        4717  114           3292  41.377193  143.286756\n",
              "4   S Dhawan        4601  137           3665  33.583942  125.538881"
            ]
          },
          "metadata": {
            "tags": []
          },
          "execution_count": 54
        }
      ]
    },
    {
      "cell_type": "code",
      "metadata": {
        "id": "a9UBHnpg__xM",
        "outputId": "36ca9649-7392-4cd7-85ff-a27dfdc7eb98",
        "colab": {
          "base_uri": "https://localhost:8080/"
        }
      },
      "source": [
        "striker_df.info()"
      ],
      "execution_count": 55,
      "outputs": [
        {
          "output_type": "stream",
          "text": [
            "<class 'pandas.core.frame.DataFrame'>\n",
            "RangeIndex: 516 entries, 0 to 515\n",
            "Data columns (total 6 columns):\n",
            " #   Column         Non-Null Count  Dtype  \n",
            "---  ------         --------------  -----  \n",
            " 0   batsman        516 non-null    object \n",
            " 1   total_runs     516 non-null    int64  \n",
            " 2   out            516 non-null    int64  \n",
            " 3   numberofballs  516 non-null    int64  \n",
            " 4   average        482 non-null    float64\n",
            " 5   strikerate     516 non-null    float64\n",
            "dtypes: float64(2), int64(3), object(1)\n",
            "memory usage: 24.3+ KB\n"
          ],
          "name": "stdout"
        }
      ]
    },
    {
      "cell_type": "markdown",
      "metadata": {
        "id": "WA-sWS7-BuFP"
      },
      "source": [
        "average: columns contain some null values"
      ]
    },
    {
      "cell_type": "code",
      "metadata": {
        "id": "uDF8efgRB_XQ",
        "outputId": "0f7bb4a5-a655-4d1b-e86d-96f028cfd81c",
        "colab": {
          "base_uri": "https://localhost:8080/"
        }
      },
      "source": [
        "striker_df.shape"
      ],
      "execution_count": 56,
      "outputs": [
        {
          "output_type": "execute_result",
          "data": {
            "text/plain": [
              "(516, 6)"
            ]
          },
          "metadata": {
            "tags": []
          },
          "execution_count": 56
        }
      ]
    },
    {
      "cell_type": "markdown",
      "metadata": {
        "id": "kpIHEoI3Ckbq"
      },
      "source": [
        "This data set contain 516 rows and 6 columns .each row specify  name of the batsman and columns specify corresponding features of the batsman "
      ]
    },
    {
      "cell_type": "code",
      "metadata": {
        "id": "iHATcgF7CjXV",
        "outputId": "0599a1cf-cc5a-4a47-af05-7f1e2562460e",
        "colab": {
          "base_uri": "https://localhost:8080/",
          "height": 284
        }
      },
      "source": [
        "striker_df.describe()"
      ],
      "execution_count": 57,
      "outputs": [
        {
          "output_type": "execute_result",
          "data": {
            "text/html": [
              "<div>\n",
              "<style scoped>\n",
              "    .dataframe tbody tr th:only-of-type {\n",
              "        vertical-align: middle;\n",
              "    }\n",
              "\n",
              "    .dataframe tbody tr th {\n",
              "        vertical-align: top;\n",
              "    }\n",
              "\n",
              "    .dataframe thead th {\n",
              "        text-align: right;\n",
              "    }\n",
              "</style>\n",
              "<table border=\"1\" class=\"dataframe\">\n",
              "  <thead>\n",
              "    <tr style=\"text-align: right;\">\n",
              "      <th></th>\n",
              "      <th>total_runs</th>\n",
              "      <th>out</th>\n",
              "      <th>numberofballs</th>\n",
              "      <th>average</th>\n",
              "      <th>strikerate</th>\n",
              "    </tr>\n",
              "  </thead>\n",
              "  <tbody>\n",
              "    <tr>\n",
              "      <th>count</th>\n",
              "      <td>516.000000</td>\n",
              "      <td>516.000000</td>\n",
              "      <td>516.000000</td>\n",
              "      <td>482.000000</td>\n",
              "      <td>516.000000</td>\n",
              "    </tr>\n",
              "    <tr>\n",
              "      <th>mean</th>\n",
              "      <td>430.625969</td>\n",
              "      <td>17.063953</td>\n",
              "      <td>335.645349</td>\n",
              "      <td>16.355074</td>\n",
              "      <td>105.433442</td>\n",
              "    </tr>\n",
              "    <tr>\n",
              "      <th>std</th>\n",
              "      <td>882.275431</td>\n",
              "      <td>28.124511</td>\n",
              "      <td>663.593679</td>\n",
              "      <td>11.146222</td>\n",
              "      <td>39.633938</td>\n",
              "    </tr>\n",
              "    <tr>\n",
              "      <th>min</th>\n",
              "      <td>0.000000</td>\n",
              "      <td>0.000000</td>\n",
              "      <td>1.000000</td>\n",
              "      <td>0.000000</td>\n",
              "      <td>0.000000</td>\n",
              "    </tr>\n",
              "    <tr>\n",
              "      <th>25%</th>\n",
              "      <td>15.000000</td>\n",
              "      <td>2.000000</td>\n",
              "      <td>17.000000</td>\n",
              "      <td>8.000000</td>\n",
              "      <td>84.362069</td>\n",
              "    </tr>\n",
              "    <tr>\n",
              "      <th>50%</th>\n",
              "      <td>74.000000</td>\n",
              "      <td>5.500000</td>\n",
              "      <td>68.000000</td>\n",
              "      <td>14.607143</td>\n",
              "      <td>111.651584</td>\n",
              "    </tr>\n",
              "    <tr>\n",
              "      <th>75%</th>\n",
              "      <td>340.500000</td>\n",
              "      <td>18.000000</td>\n",
              "      <td>290.000000</td>\n",
              "      <td>23.657609</td>\n",
              "      <td>130.499036</td>\n",
              "    </tr>\n",
              "    <tr>\n",
              "      <th>max</th>\n",
              "      <td>5426.000000</td>\n",
              "      <td>161.000000</td>\n",
              "      <td>4111.000000</td>\n",
              "      <td>88.000000</td>\n",
              "      <td>250.000000</td>\n",
              "    </tr>\n",
              "  </tbody>\n",
              "</table>\n",
              "</div>"
            ],
            "text/plain": [
              "        total_runs         out  numberofballs     average  strikerate\n",
              "count   516.000000  516.000000     516.000000  482.000000  516.000000\n",
              "mean    430.625969   17.063953     335.645349   16.355074  105.433442\n",
              "std     882.275431   28.124511     663.593679   11.146222   39.633938\n",
              "min       0.000000    0.000000       1.000000    0.000000    0.000000\n",
              "25%      15.000000    2.000000      17.000000    8.000000   84.362069\n",
              "50%      74.000000    5.500000      68.000000   14.607143  111.651584\n",
              "75%     340.500000   18.000000     290.000000   23.657609  130.499036\n",
              "max    5426.000000  161.000000    4111.000000   88.000000  250.000000"
            ]
          },
          "metadata": {
            "tags": []
          },
          "execution_count": 57
        }
      ]
    },
    {
      "cell_type": "code",
      "metadata": {
        "id": "IPdILqbv__0i",
        "outputId": "b4ccb039-d12f-460f-9414-db883cbdf3cf",
        "colab": {
          "base_uri": "https://localhost:8080/"
        }
      },
      "source": [
        "striker_df['average']"
      ],
      "execution_count": 58,
      "outputs": [
        {
          "output_type": "execute_result",
          "data": {
            "text/plain": [
              "0      35.697368\n",
              "1      33.662500\n",
              "2      30.447205\n",
              "3      41.377193\n",
              "4      33.583942\n",
              "         ...    \n",
              "511     0.000000\n",
              "512     0.000000\n",
              "513     0.000000\n",
              "514     0.000000\n",
              "515     0.000000\n",
              "Name: average, Length: 516, dtype: float64"
            ]
          },
          "metadata": {
            "tags": []
          },
          "execution_count": 58
        }
      ]
    },
    {
      "cell_type": "code",
      "metadata": {
        "id": "h9R4rPME__9d",
        "outputId": "52644e64-7d82-4443-ed3b-3ff3f089aa46",
        "colab": {
          "base_uri": "https://localhost:8080/",
          "height": 1000
        }
      },
      "source": [
        "striker_df.tail(50)"
      ],
      "execution_count": 59,
      "outputs": [
        {
          "output_type": "execute_result",
          "data": {
            "text/html": [
              "<div>\n",
              "<style scoped>\n",
              "    .dataframe tbody tr th:only-of-type {\n",
              "        vertical-align: middle;\n",
              "    }\n",
              "\n",
              "    .dataframe tbody tr th {\n",
              "        vertical-align: top;\n",
              "    }\n",
              "\n",
              "    .dataframe thead th {\n",
              "        text-align: right;\n",
              "    }\n",
              "</style>\n",
              "<table border=\"1\" class=\"dataframe\">\n",
              "  <thead>\n",
              "    <tr style=\"text-align: right;\">\n",
              "      <th></th>\n",
              "      <th>batsman</th>\n",
              "      <th>total_runs</th>\n",
              "      <th>out</th>\n",
              "      <th>numberofballs</th>\n",
              "      <th>average</th>\n",
              "      <th>strikerate</th>\n",
              "    </tr>\n",
              "  </thead>\n",
              "  <tbody>\n",
              "    <tr>\n",
              "      <th>466</th>\n",
              "      <td>R Ninan</td>\n",
              "      <td>3</td>\n",
              "      <td>1</td>\n",
              "      <td>6</td>\n",
              "      <td>3.0</td>\n",
              "      <td>50.000000</td>\n",
              "    </tr>\n",
              "    <tr>\n",
              "      <th>467</th>\n",
              "      <td>D Kalyankrishna</td>\n",
              "      <td>3</td>\n",
              "      <td>1</td>\n",
              "      <td>7</td>\n",
              "      <td>3.0</td>\n",
              "      <td>42.857143</td>\n",
              "    </tr>\n",
              "    <tr>\n",
              "      <th>468</th>\n",
              "      <td>JE Taylor</td>\n",
              "      <td>3</td>\n",
              "      <td>0</td>\n",
              "      <td>3</td>\n",
              "      <td>NaN</td>\n",
              "      <td>100.000000</td>\n",
              "    </tr>\n",
              "    <tr>\n",
              "      <th>469</th>\n",
              "      <td>H Viljoen</td>\n",
              "      <td>3</td>\n",
              "      <td>2</td>\n",
              "      <td>5</td>\n",
              "      <td>1.5</td>\n",
              "      <td>60.000000</td>\n",
              "    </tr>\n",
              "    <tr>\n",
              "      <th>470</th>\n",
              "      <td>BAW Mendis</td>\n",
              "      <td>3</td>\n",
              "      <td>2</td>\n",
              "      <td>6</td>\n",
              "      <td>1.5</td>\n",
              "      <td>50.000000</td>\n",
              "    </tr>\n",
              "    <tr>\n",
              "      <th>471</th>\n",
              "      <td>Mohammad Asif</td>\n",
              "      <td>3</td>\n",
              "      <td>2</td>\n",
              "      <td>6</td>\n",
              "      <td>1.5</td>\n",
              "      <td>50.000000</td>\n",
              "    </tr>\n",
              "    <tr>\n",
              "      <th>472</th>\n",
              "      <td>Kamran Khan</td>\n",
              "      <td>3</td>\n",
              "      <td>1</td>\n",
              "      <td>5</td>\n",
              "      <td>3.0</td>\n",
              "      <td>60.000000</td>\n",
              "    </tr>\n",
              "    <tr>\n",
              "      <th>473</th>\n",
              "      <td>Younis Khan</td>\n",
              "      <td>3</td>\n",
              "      <td>1</td>\n",
              "      <td>7</td>\n",
              "      <td>3.0</td>\n",
              "      <td>42.857143</td>\n",
              "    </tr>\n",
              "    <tr>\n",
              "      <th>474</th>\n",
              "      <td>KP Appanna</td>\n",
              "      <td>2</td>\n",
              "      <td>1</td>\n",
              "      <td>3</td>\n",
              "      <td>2.0</td>\n",
              "      <td>66.666667</td>\n",
              "    </tr>\n",
              "    <tr>\n",
              "      <th>475</th>\n",
              "      <td>RS Gavaskar</td>\n",
              "      <td>2</td>\n",
              "      <td>1</td>\n",
              "      <td>8</td>\n",
              "      <td>2.0</td>\n",
              "      <td>25.000000</td>\n",
              "    </tr>\n",
              "    <tr>\n",
              "      <th>476</th>\n",
              "      <td>SB Wagh</td>\n",
              "      <td>2</td>\n",
              "      <td>2</td>\n",
              "      <td>3</td>\n",
              "      <td>1.0</td>\n",
              "      <td>66.666667</td>\n",
              "    </tr>\n",
              "    <tr>\n",
              "      <th>477</th>\n",
              "      <td>Mohammad Ashraful</td>\n",
              "      <td>2</td>\n",
              "      <td>1</td>\n",
              "      <td>10</td>\n",
              "      <td>2.0</td>\n",
              "      <td>20.000000</td>\n",
              "    </tr>\n",
              "    <tr>\n",
              "      <th>478</th>\n",
              "      <td>Mashrafe Mortaza</td>\n",
              "      <td>2</td>\n",
              "      <td>0</td>\n",
              "      <td>2</td>\n",
              "      <td>NaN</td>\n",
              "      <td>100.000000</td>\n",
              "    </tr>\n",
              "    <tr>\n",
              "      <th>479</th>\n",
              "      <td>S Randiv</td>\n",
              "      <td>2</td>\n",
              "      <td>1</td>\n",
              "      <td>4</td>\n",
              "      <td>2.0</td>\n",
              "      <td>50.000000</td>\n",
              "    </tr>\n",
              "    <tr>\n",
              "      <th>480</th>\n",
              "      <td>Shoaib Akhtar</td>\n",
              "      <td>2</td>\n",
              "      <td>1</td>\n",
              "      <td>7</td>\n",
              "      <td>2.0</td>\n",
              "      <td>28.571429</td>\n",
              "    </tr>\n",
              "    <tr>\n",
              "      <th>481</th>\n",
              "      <td>RG More</td>\n",
              "      <td>2</td>\n",
              "      <td>0</td>\n",
              "      <td>2</td>\n",
              "      <td>NaN</td>\n",
              "      <td>100.000000</td>\n",
              "    </tr>\n",
              "    <tr>\n",
              "      <th>482</th>\n",
              "      <td>A Singh</td>\n",
              "      <td>2</td>\n",
              "      <td>4</td>\n",
              "      <td>10</td>\n",
              "      <td>0.5</td>\n",
              "      <td>20.000000</td>\n",
              "    </tr>\n",
              "    <tr>\n",
              "      <th>483</th>\n",
              "      <td>VS Yeligati</td>\n",
              "      <td>2</td>\n",
              "      <td>1</td>\n",
              "      <td>2</td>\n",
              "      <td>2.0</td>\n",
              "      <td>100.000000</td>\n",
              "    </tr>\n",
              "    <tr>\n",
              "      <th>484</th>\n",
              "      <td>H Das</td>\n",
              "      <td>2</td>\n",
              "      <td>1</td>\n",
              "      <td>5</td>\n",
              "      <td>2.0</td>\n",
              "      <td>40.000000</td>\n",
              "    </tr>\n",
              "    <tr>\n",
              "      <th>485</th>\n",
              "      <td>SE Bond</td>\n",
              "      <td>1</td>\n",
              "      <td>1</td>\n",
              "      <td>2</td>\n",
              "      <td>1.0</td>\n",
              "      <td>50.000000</td>\n",
              "    </tr>\n",
              "    <tr>\n",
              "      <th>486</th>\n",
              "      <td>PM Sarvesh Kumar</td>\n",
              "      <td>1</td>\n",
              "      <td>0</td>\n",
              "      <td>2</td>\n",
              "      <td>NaN</td>\n",
              "      <td>50.000000</td>\n",
              "    </tr>\n",
              "    <tr>\n",
              "      <th>487</th>\n",
              "      <td>Shoaib Ahmed</td>\n",
              "      <td>1</td>\n",
              "      <td>2</td>\n",
              "      <td>6</td>\n",
              "      <td>0.5</td>\n",
              "      <td>16.666667</td>\n",
              "    </tr>\n",
              "    <tr>\n",
              "      <th>488</th>\n",
              "      <td>Mustafizur Rahman</td>\n",
              "      <td>1</td>\n",
              "      <td>1</td>\n",
              "      <td>3</td>\n",
              "      <td>1.0</td>\n",
              "      <td>33.333333</td>\n",
              "    </tr>\n",
              "    <tr>\n",
              "      <th>489</th>\n",
              "      <td>LH Ferguson</td>\n",
              "      <td>1</td>\n",
              "      <td>0</td>\n",
              "      <td>1</td>\n",
              "      <td>NaN</td>\n",
              "      <td>100.000000</td>\n",
              "    </tr>\n",
              "    <tr>\n",
              "      <th>490</th>\n",
              "      <td>H Gurney</td>\n",
              "      <td>1</td>\n",
              "      <td>0</td>\n",
              "      <td>5</td>\n",
              "      <td>NaN</td>\n",
              "      <td>20.000000</td>\n",
              "    </tr>\n",
              "    <tr>\n",
              "      <th>491</th>\n",
              "      <td>L Plunkett</td>\n",
              "      <td>1</td>\n",
              "      <td>1</td>\n",
              "      <td>3</td>\n",
              "      <td>1.0</td>\n",
              "      <td>33.333333</td>\n",
              "    </tr>\n",
              "    <tr>\n",
              "      <th>492</th>\n",
              "      <td>BE Hendricks</td>\n",
              "      <td>1</td>\n",
              "      <td>1</td>\n",
              "      <td>3</td>\n",
              "      <td>1.0</td>\n",
              "      <td>33.333333</td>\n",
              "    </tr>\n",
              "    <tr>\n",
              "      <th>493</th>\n",
              "      <td>P Parameswaran</td>\n",
              "      <td>1</td>\n",
              "      <td>0</td>\n",
              "      <td>2</td>\n",
              "      <td>NaN</td>\n",
              "      <td>50.000000</td>\n",
              "    </tr>\n",
              "    <tr>\n",
              "      <th>494</th>\n",
              "      <td>DP Vijaykumar</td>\n",
              "      <td>1</td>\n",
              "      <td>0</td>\n",
              "      <td>1</td>\n",
              "      <td>NaN</td>\n",
              "      <td>100.000000</td>\n",
              "    </tr>\n",
              "    <tr>\n",
              "      <th>495</th>\n",
              "      <td>DJ Muthuswami</td>\n",
              "      <td>1</td>\n",
              "      <td>1</td>\n",
              "      <td>3</td>\n",
              "      <td>1.0</td>\n",
              "      <td>33.333333</td>\n",
              "    </tr>\n",
              "    <tr>\n",
              "      <th>496</th>\n",
              "      <td>M Wood</td>\n",
              "      <td>1</td>\n",
              "      <td>1</td>\n",
              "      <td>3</td>\n",
              "      <td>1.0</td>\n",
              "      <td>33.333333</td>\n",
              "    </tr>\n",
              "    <tr>\n",
              "      <th>497</th>\n",
              "      <td>NJ Rimmington</td>\n",
              "      <td>1</td>\n",
              "      <td>0</td>\n",
              "      <td>1</td>\n",
              "      <td>NaN</td>\n",
              "      <td>100.000000</td>\n",
              "    </tr>\n",
              "    <tr>\n",
              "      <th>498</th>\n",
              "      <td>P Krishna</td>\n",
              "      <td>1</td>\n",
              "      <td>1</td>\n",
              "      <td>7</td>\n",
              "      <td>1.0</td>\n",
              "      <td>14.285714</td>\n",
              "    </tr>\n",
              "    <tr>\n",
              "      <th>499</th>\n",
              "      <td>M de Lange</td>\n",
              "      <td>1</td>\n",
              "      <td>1</td>\n",
              "      <td>2</td>\n",
              "      <td>1.0</td>\n",
              "      <td>50.000000</td>\n",
              "    </tr>\n",
              "    <tr>\n",
              "      <th>500</th>\n",
              "      <td>K Ahmed</td>\n",
              "      <td>0</td>\n",
              "      <td>1</td>\n",
              "      <td>1</td>\n",
              "      <td>0.0</td>\n",
              "      <td>0.000000</td>\n",
              "    </tr>\n",
              "    <tr>\n",
              "      <th>501</th>\n",
              "      <td>C Nanda</td>\n",
              "      <td>0</td>\n",
              "      <td>1</td>\n",
              "      <td>1</td>\n",
              "      <td>0.0</td>\n",
              "      <td>0.000000</td>\n",
              "    </tr>\n",
              "    <tr>\n",
              "      <th>502</th>\n",
              "      <td>YA Abdulla</td>\n",
              "      <td>0</td>\n",
              "      <td>0</td>\n",
              "      <td>1</td>\n",
              "      <td>NaN</td>\n",
              "      <td>0.000000</td>\n",
              "    </tr>\n",
              "    <tr>\n",
              "      <th>503</th>\n",
              "      <td>U Kaul</td>\n",
              "      <td>0</td>\n",
              "      <td>0</td>\n",
              "      <td>1</td>\n",
              "      <td>NaN</td>\n",
              "      <td>0.000000</td>\n",
              "    </tr>\n",
              "    <tr>\n",
              "      <th>504</th>\n",
              "      <td>P Raj</td>\n",
              "      <td>0</td>\n",
              "      <td>0</td>\n",
              "      <td>1</td>\n",
              "      <td>NaN</td>\n",
              "      <td>0.000000</td>\n",
              "    </tr>\n",
              "    <tr>\n",
              "      <th>505</th>\n",
              "      <td>S Lamichhane</td>\n",
              "      <td>0</td>\n",
              "      <td>1</td>\n",
              "      <td>1</td>\n",
              "      <td>0.0</td>\n",
              "      <td>0.000000</td>\n",
              "    </tr>\n",
              "    <tr>\n",
              "      <th>506</th>\n",
              "      <td>RR Bhatkal</td>\n",
              "      <td>0</td>\n",
              "      <td>2</td>\n",
              "      <td>2</td>\n",
              "      <td>0.0</td>\n",
              "      <td>0.000000</td>\n",
              "    </tr>\n",
              "    <tr>\n",
              "      <th>507</th>\n",
              "      <td>IC Pandey</td>\n",
              "      <td>0</td>\n",
              "      <td>1</td>\n",
              "      <td>2</td>\n",
              "      <td>0.0</td>\n",
              "      <td>0.000000</td>\n",
              "    </tr>\n",
              "    <tr>\n",
              "      <th>508</th>\n",
              "      <td>L Ablish</td>\n",
              "      <td>0</td>\n",
              "      <td>0</td>\n",
              "      <td>2</td>\n",
              "      <td>NaN</td>\n",
              "      <td>0.000000</td>\n",
              "    </tr>\n",
              "    <tr>\n",
              "      <th>509</th>\n",
              "      <td>Abdur Razzak</td>\n",
              "      <td>0</td>\n",
              "      <td>0</td>\n",
              "      <td>2</td>\n",
              "      <td>NaN</td>\n",
              "      <td>0.000000</td>\n",
              "    </tr>\n",
              "    <tr>\n",
              "      <th>510</th>\n",
              "      <td>Sunny Gupta</td>\n",
              "      <td>0</td>\n",
              "      <td>1</td>\n",
              "      <td>1</td>\n",
              "      <td>0.0</td>\n",
              "      <td>0.000000</td>\n",
              "    </tr>\n",
              "    <tr>\n",
              "      <th>511</th>\n",
              "      <td>ND Doshi</td>\n",
              "      <td>0</td>\n",
              "      <td>1</td>\n",
              "      <td>13</td>\n",
              "      <td>0.0</td>\n",
              "      <td>0.000000</td>\n",
              "    </tr>\n",
              "    <tr>\n",
              "      <th>512</th>\n",
              "      <td>J Denly</td>\n",
              "      <td>0</td>\n",
              "      <td>1</td>\n",
              "      <td>1</td>\n",
              "      <td>0.0</td>\n",
              "      <td>0.000000</td>\n",
              "    </tr>\n",
              "    <tr>\n",
              "      <th>513</th>\n",
              "      <td>S Ladda</td>\n",
              "      <td>0</td>\n",
              "      <td>2</td>\n",
              "      <td>9</td>\n",
              "      <td>0.0</td>\n",
              "      <td>0.000000</td>\n",
              "    </tr>\n",
              "    <tr>\n",
              "      <th>514</th>\n",
              "      <td>V Pratap Singh</td>\n",
              "      <td>0</td>\n",
              "      <td>1</td>\n",
              "      <td>1</td>\n",
              "      <td>0.0</td>\n",
              "      <td>0.000000</td>\n",
              "    </tr>\n",
              "    <tr>\n",
              "      <th>515</th>\n",
              "      <td>S Kaushik</td>\n",
              "      <td>0</td>\n",
              "      <td>1</td>\n",
              "      <td>1</td>\n",
              "      <td>0.0</td>\n",
              "      <td>0.000000</td>\n",
              "    </tr>\n",
              "  </tbody>\n",
              "</table>\n",
              "</div>"
            ],
            "text/plain": [
              "               batsman  total_runs  out  numberofballs  average  strikerate\n",
              "466            R Ninan           3    1              6      3.0   50.000000\n",
              "467    D Kalyankrishna           3    1              7      3.0   42.857143\n",
              "468          JE Taylor           3    0              3      NaN  100.000000\n",
              "469          H Viljoen           3    2              5      1.5   60.000000\n",
              "470         BAW Mendis           3    2              6      1.5   50.000000\n",
              "471      Mohammad Asif           3    2              6      1.5   50.000000\n",
              "472        Kamran Khan           3    1              5      3.0   60.000000\n",
              "473        Younis Khan           3    1              7      3.0   42.857143\n",
              "474         KP Appanna           2    1              3      2.0   66.666667\n",
              "475        RS Gavaskar           2    1              8      2.0   25.000000\n",
              "476            SB Wagh           2    2              3      1.0   66.666667\n",
              "477  Mohammad Ashraful           2    1             10      2.0   20.000000\n",
              "478   Mashrafe Mortaza           2    0              2      NaN  100.000000\n",
              "479           S Randiv           2    1              4      2.0   50.000000\n",
              "480      Shoaib Akhtar           2    1              7      2.0   28.571429\n",
              "481            RG More           2    0              2      NaN  100.000000\n",
              "482            A Singh           2    4             10      0.5   20.000000\n",
              "483        VS Yeligati           2    1              2      2.0  100.000000\n",
              "484              H Das           2    1              5      2.0   40.000000\n",
              "485            SE Bond           1    1              2      1.0   50.000000\n",
              "486   PM Sarvesh Kumar           1    0              2      NaN   50.000000\n",
              "487       Shoaib Ahmed           1    2              6      0.5   16.666667\n",
              "488  Mustafizur Rahman           1    1              3      1.0   33.333333\n",
              "489        LH Ferguson           1    0              1      NaN  100.000000\n",
              "490           H Gurney           1    0              5      NaN   20.000000\n",
              "491         L Plunkett           1    1              3      1.0   33.333333\n",
              "492       BE Hendricks           1    1              3      1.0   33.333333\n",
              "493     P Parameswaran           1    0              2      NaN   50.000000\n",
              "494      DP Vijaykumar           1    0              1      NaN  100.000000\n",
              "495      DJ Muthuswami           1    1              3      1.0   33.333333\n",
              "496             M Wood           1    1              3      1.0   33.333333\n",
              "497      NJ Rimmington           1    0              1      NaN  100.000000\n",
              "498          P Krishna           1    1              7      1.0   14.285714\n",
              "499         M de Lange           1    1              2      1.0   50.000000\n",
              "500            K Ahmed           0    1              1      0.0    0.000000\n",
              "501            C Nanda           0    1              1      0.0    0.000000\n",
              "502         YA Abdulla           0    0              1      NaN    0.000000\n",
              "503             U Kaul           0    0              1      NaN    0.000000\n",
              "504              P Raj           0    0              1      NaN    0.000000\n",
              "505       S Lamichhane           0    1              1      0.0    0.000000\n",
              "506         RR Bhatkal           0    2              2      0.0    0.000000\n",
              "507          IC Pandey           0    1              2      0.0    0.000000\n",
              "508           L Ablish           0    0              2      NaN    0.000000\n",
              "509       Abdur Razzak           0    0              2      NaN    0.000000\n",
              "510        Sunny Gupta           0    1              1      0.0    0.000000\n",
              "511           ND Doshi           0    1             13      0.0    0.000000\n",
              "512            J Denly           0    1              1      0.0    0.000000\n",
              "513            S Ladda           0    2              9      0.0    0.000000\n",
              "514     V Pratap Singh           0    1              1      0.0    0.000000\n",
              "515          S Kaushik           0    1              1      0.0    0.000000"
            ]
          },
          "metadata": {
            "tags": []
          },
          "execution_count": 59
        }
      ]
    },
    {
      "cell_type": "code",
      "metadata": {
        "id": "1UgkaEEIAAAt"
      },
      "source": [
        "striker_df['average']=striker_df['average'].replace(np.nan,14.60)"
      ],
      "execution_count": 60,
      "outputs": []
    },
    {
      "cell_type": "code",
      "metadata": {
        "id": "i5HP6VNxAAEI",
        "outputId": "70d83721-0b2e-4bd2-cda1-e2c500311501",
        "colab": {
          "base_uri": "https://localhost:8080/",
          "height": 402
        }
      },
      "source": [
        "striker_df"
      ],
      "execution_count": 61,
      "outputs": [
        {
          "output_type": "execute_result",
          "data": {
            "text/html": [
              "<div>\n",
              "<style scoped>\n",
              "    .dataframe tbody tr th:only-of-type {\n",
              "        vertical-align: middle;\n",
              "    }\n",
              "\n",
              "    .dataframe tbody tr th {\n",
              "        vertical-align: top;\n",
              "    }\n",
              "\n",
              "    .dataframe thead th {\n",
              "        text-align: right;\n",
              "    }\n",
              "</style>\n",
              "<table border=\"1\" class=\"dataframe\">\n",
              "  <thead>\n",
              "    <tr style=\"text-align: right;\">\n",
              "      <th></th>\n",
              "      <th>batsman</th>\n",
              "      <th>total_runs</th>\n",
              "      <th>out</th>\n",
              "      <th>numberofballs</th>\n",
              "      <th>average</th>\n",
              "      <th>strikerate</th>\n",
              "    </tr>\n",
              "  </thead>\n",
              "  <tbody>\n",
              "    <tr>\n",
              "      <th>0</th>\n",
              "      <td>V Kohli</td>\n",
              "      <td>5426</td>\n",
              "      <td>152</td>\n",
              "      <td>4111</td>\n",
              "      <td>35.697368</td>\n",
              "      <td>131.987351</td>\n",
              "    </tr>\n",
              "    <tr>\n",
              "      <th>1</th>\n",
              "      <td>SK Raina</td>\n",
              "      <td>5386</td>\n",
              "      <td>160</td>\n",
              "      <td>3916</td>\n",
              "      <td>33.662500</td>\n",
              "      <td>137.538304</td>\n",
              "    </tr>\n",
              "    <tr>\n",
              "      <th>2</th>\n",
              "      <td>RG Sharma</td>\n",
              "      <td>4902</td>\n",
              "      <td>161</td>\n",
              "      <td>3742</td>\n",
              "      <td>30.447205</td>\n",
              "      <td>130.999466</td>\n",
              "    </tr>\n",
              "    <tr>\n",
              "      <th>3</th>\n",
              "      <td>DA Warner</td>\n",
              "      <td>4717</td>\n",
              "      <td>114</td>\n",
              "      <td>3292</td>\n",
              "      <td>41.377193</td>\n",
              "      <td>143.286756</td>\n",
              "    </tr>\n",
              "    <tr>\n",
              "      <th>4</th>\n",
              "      <td>S Dhawan</td>\n",
              "      <td>4601</td>\n",
              "      <td>137</td>\n",
              "      <td>3665</td>\n",
              "      <td>33.583942</td>\n",
              "      <td>125.538881</td>\n",
              "    </tr>\n",
              "    <tr>\n",
              "      <th>...</th>\n",
              "      <td>...</td>\n",
              "      <td>...</td>\n",
              "      <td>...</td>\n",
              "      <td>...</td>\n",
              "      <td>...</td>\n",
              "      <td>...</td>\n",
              "    </tr>\n",
              "    <tr>\n",
              "      <th>511</th>\n",
              "      <td>ND Doshi</td>\n",
              "      <td>0</td>\n",
              "      <td>1</td>\n",
              "      <td>13</td>\n",
              "      <td>0.000000</td>\n",
              "      <td>0.000000</td>\n",
              "    </tr>\n",
              "    <tr>\n",
              "      <th>512</th>\n",
              "      <td>J Denly</td>\n",
              "      <td>0</td>\n",
              "      <td>1</td>\n",
              "      <td>1</td>\n",
              "      <td>0.000000</td>\n",
              "      <td>0.000000</td>\n",
              "    </tr>\n",
              "    <tr>\n",
              "      <th>513</th>\n",
              "      <td>S Ladda</td>\n",
              "      <td>0</td>\n",
              "      <td>2</td>\n",
              "      <td>9</td>\n",
              "      <td>0.000000</td>\n",
              "      <td>0.000000</td>\n",
              "    </tr>\n",
              "    <tr>\n",
              "      <th>514</th>\n",
              "      <td>V Pratap Singh</td>\n",
              "      <td>0</td>\n",
              "      <td>1</td>\n",
              "      <td>1</td>\n",
              "      <td>0.000000</td>\n",
              "      <td>0.000000</td>\n",
              "    </tr>\n",
              "    <tr>\n",
              "      <th>515</th>\n",
              "      <td>S Kaushik</td>\n",
              "      <td>0</td>\n",
              "      <td>1</td>\n",
              "      <td>1</td>\n",
              "      <td>0.000000</td>\n",
              "      <td>0.000000</td>\n",
              "    </tr>\n",
              "  </tbody>\n",
              "</table>\n",
              "<p>516 rows × 6 columns</p>\n",
              "</div>"
            ],
            "text/plain": [
              "            batsman  total_runs  out  numberofballs    average  strikerate\n",
              "0           V Kohli        5426  152           4111  35.697368  131.987351\n",
              "1          SK Raina        5386  160           3916  33.662500  137.538304\n",
              "2         RG Sharma        4902  161           3742  30.447205  130.999466\n",
              "3         DA Warner        4717  114           3292  41.377193  143.286756\n",
              "4          S Dhawan        4601  137           3665  33.583942  125.538881\n",
              "..              ...         ...  ...            ...        ...         ...\n",
              "511        ND Doshi           0    1             13   0.000000    0.000000\n",
              "512         J Denly           0    1              1   0.000000    0.000000\n",
              "513         S Ladda           0    2              9   0.000000    0.000000\n",
              "514  V Pratap Singh           0    1              1   0.000000    0.000000\n",
              "515       S Kaushik           0    1              1   0.000000    0.000000\n",
              "\n",
              "[516 rows x 6 columns]"
            ]
          },
          "metadata": {
            "tags": []
          },
          "execution_count": 61
        }
      ]
    },
    {
      "cell_type": "code",
      "metadata": {
        "id": "giI-n3b1AAHd",
        "outputId": "9c9f908e-443f-4b0d-f542-01626ffb48ce",
        "colab": {
          "base_uri": "https://localhost:8080/"
        }
      },
      "source": [
        "striker_df.info()"
      ],
      "execution_count": 62,
      "outputs": [
        {
          "output_type": "stream",
          "text": [
            "<class 'pandas.core.frame.DataFrame'>\n",
            "RangeIndex: 516 entries, 0 to 515\n",
            "Data columns (total 6 columns):\n",
            " #   Column         Non-Null Count  Dtype  \n",
            "---  ------         --------------  -----  \n",
            " 0   batsman        516 non-null    object \n",
            " 1   total_runs     516 non-null    int64  \n",
            " 2   out            516 non-null    int64  \n",
            " 3   numberofballs  516 non-null    int64  \n",
            " 4   average        516 non-null    float64\n",
            " 5   strikerate     516 non-null    float64\n",
            "dtypes: float64(2), int64(3), object(1)\n",
            "memory usage: 24.3+ KB\n"
          ],
          "name": "stdout"
        }
      ]
    },
    {
      "cell_type": "code",
      "metadata": {
        "id": "Ze9bO0PwRxv2",
        "outputId": "cb7c6355-aefe-496d-e838-abd21fca91d7",
        "colab": {
          "base_uri": "https://localhost:8080/",
          "height": 864
        }
      },
      "source": [
        "plt.figure(figsize=(25,15))\n",
        "plt.title(\"Box plot of  total_runs , out,numberofballs, average  ,strikerate \")\n",
        "ax = sns.boxplot(data=striker_df, orient=\"v\")\n"
      ],
      "execution_count": 63,
      "outputs": [
        {
          "output_type": "display_data",
          "data": {
            "image/png": "[encoded data removed]",
            "text/plain": [
              "<Figure size 1800x1080 with 1 Axes>"
            ]
          },
          "metadata": {
            "tags": [],
            "needs_background": "light"
          }
        }
      ]
    },
    {
      "cell_type": "code",
      "metadata": {
        "id": "snZYI7QAPLF7",
        "outputId": "de606c2a-4384-4217-c910-b837aa99ddaa",
        "colab": {
          "base_uri": "https://localhost:8080/"
        }
      },
      "source": [
        "percentile_q1 = np.percentile(striker_df['total_runs'],25)\n",
        "print(percentile_q1)\n",
        "percentile_q2 = np.percentile(striker_df['total_runs'],50)\n",
        "print(percentile_q2)\n",
        "percentile_q3 = np.percentile(striker_df['total_runs'],75)\n",
        "print(percentile_q3)"
      ],
      "execution_count": 64,
      "outputs": [
        {
          "output_type": "stream",
          "text": [
            "15.0\n",
            "74.0\n",
            "340.5\n"
          ],
          "name": "stdout"
        }
      ]
    },
    {
      "cell_type": "code",
      "metadata": {
        "id": "O4EsP9pAPfFp"
      },
      "source": [
        "iqr=percentile_q3 - percentile_q1\n",
        "lower_outlier=percentile_q1-1.5*iqr\n",
        "upper_outlier=percentile_q3+1.5*iqr"
      ],
      "execution_count": 65,
      "outputs": []
    },
    {
      "cell_type": "code",
      "metadata": {
        "id": "9Njz-ki3Rxlc",
        "outputId": "8407dec6-1186-4901-c55e-70885f4cad64",
        "colab": {
          "base_uri": "https://localhost:8080/"
        }
      },
      "source": [
        "lower_outlier"
      ],
      "execution_count": 66,
      "outputs": [
        {
          "output_type": "execute_result",
          "data": {
            "text/plain": [
              "-473.25"
            ]
          },
          "metadata": {
            "tags": []
          },
          "execution_count": 66
        }
      ]
    },
    {
      "cell_type": "code",
      "metadata": {
        "id": "zxl6zk4DTEop",
        "outputId": "bb4acdc4-4c48-43c3-91c8-1e8720bd5ae5",
        "colab": {
          "base_uri": "https://localhost:8080/"
        }
      },
      "source": [
        "upper_outlier"
      ],
      "execution_count": 67,
      "outputs": [
        {
          "output_type": "execute_result",
          "data": {
            "text/plain": [
              "828.75"
            ]
          },
          "metadata": {
            "tags": []
          },
          "execution_count": 67
        }
      ]
    },
    {
      "cell_type": "code",
      "metadata": {
        "id": "oyj_1bzEi7J9"
      },
      "source": [
        "new_total_run=striker_df['total_runs']<upper_outlier"
      ],
      "execution_count": 68,
      "outputs": []
    },
    {
      "cell_type": "code",
      "metadata": {
        "id": "HFEMIbjEjI9d",
        "outputId": "d0139464-cb7b-4bd0-fb18-8738e5b78186",
        "colab": {
          "base_uri": "https://localhost:8080/"
        }
      },
      "source": [
        "new_total_run"
      ],
      "execution_count": 69,
      "outputs": [
        {
          "output_type": "execute_result",
          "data": {
            "text/plain": [
              "0      False\n",
              "1      False\n",
              "2      False\n",
              "3      False\n",
              "4      False\n",
              "       ...  \n",
              "511     True\n",
              "512     True\n",
              "513     True\n",
              "514     True\n",
              "515     True\n",
              "Name: total_runs, Length: 516, dtype: bool"
            ]
          },
          "metadata": {
            "tags": []
          },
          "execution_count": 69
        }
      ]
    },
    {
      "cell_type": "code",
      "metadata": {
        "id": "tF7R3WxGgXi4",
        "outputId": "5f621a72-c8b1-413a-da20-e3ebe11fc405",
        "colab": {
          "base_uri": "https://localhost:8080/"
        }
      },
      "source": [
        "striker_df['total_runs'].head()"
      ],
      "execution_count": 70,
      "outputs": [
        {
          "output_type": "execute_result",
          "data": {
            "text/plain": [
              "0    5426\n",
              "1    5386\n",
              "2    4902\n",
              "3    4717\n",
              "4    4601\n",
              "Name: total_runs, dtype: int64"
            ]
          },
          "metadata": {
            "tags": []
          },
          "execution_count": 70
        }
      ]
    },
    {
      "cell_type": "code",
      "metadata": {
        "id": "d3o-yZoTQu1_",
        "outputId": "d7a01dd8-56f5-423f-9591-22035e509792",
        "colab": {
          "base_uri": "https://localhost:8080/"
        }
      },
      "source": [
        "striker_df['total_runs']"
      ],
      "execution_count": 71,
      "outputs": [
        {
          "output_type": "execute_result",
          "data": {
            "text/plain": [
              "0      5426\n",
              "1      5386\n",
              "2      4902\n",
              "3      4717\n",
              "4      4601\n",
              "       ... \n",
              "511       0\n",
              "512       0\n",
              "513       0\n",
              "514       0\n",
              "515       0\n",
              "Name: total_runs, Length: 516, dtype: int64"
            ]
          },
          "metadata": {
            "tags": []
          },
          "execution_count": 71
        }
      ]
    },
    {
      "cell_type": "code",
      "metadata": {
        "id": "tOa4tD0MRx0F",
        "outputId": "367f43a5-ae76-47de-8b89-fbe6372d1458",
        "colab": {
          "base_uri": "https://localhost:8080/",
          "height": 693
        }
      },
      "source": [
        "plt.figure(figsize=(15,10))\n",
        "plt.title(\"Histogram of Number of Total runs \")\n",
        "sns.distplot(striker_df['total_runs'], hist=True)"
      ],
      "execution_count": 72,
      "outputs": [
        {
          "output_type": "stream",
          "text": [
            "/usr/local/lib/python3.6/dist-packages/seaborn/distributions.py:2551: FutureWarning: `distplot` is a deprecated function and will be removed in a future version. Please adapt your code to use either `displot` (a figure-level function with similar flexibility) or `histplot` (an axes-level function for histograms).\n",
            "  warnings.warn(msg, FutureWarning)\n"
          ],
          "name": "stderr"
        },
        {
          "output_type": "execute_result",
          "data": {
            "text/plain": [
              "<matplotlib.axes._subplots.AxesSubplot at 0x7f29113b6b70>"
            ]
          },
          "metadata": {
            "tags": []
          },
          "execution_count": 72
        },
        {
          "output_type": "display_data",
          "data": {
            "image/png": "[encoded data removed]",
            "text/plain": [
              "<Figure size 1080x720 with 1 Axes>"
            ]
          },
          "metadata": {
            "tags": [],
            "needs_background": "light"
          }
        }
      ]
    },
    {
      "cell_type": "code",
      "metadata": {
        "id": "NUJakmoglWxN"
      },
      "source": [
        "q75, q25 = np.percentile(striker_df['total_runs'], [75 ,25])\n",
        "iqr_total_runs = q75 - q25"
      ],
      "execution_count": 73,
      "outputs": []
    },
    {
      "cell_type": "code",
      "metadata": {
        "id": "jUxkCMmNRx3d",
        "outputId": "96b7715b-1120-494b-b248-37dcab7fe748",
        "colab": {
          "base_uri": "https://localhost:8080/",
          "height": 691
        }
      },
      "source": [
        "plt.figure(figsize=(15,10))\n",
        "plt.title(\"Histogram of OUT\")\n",
        "sns.distplot(striker_df['out'], hist=True)"
      ],
      "execution_count": 74,
      "outputs": [
        {
          "output_type": "stream",
          "text": [
            "/usr/local/lib/python3.6/dist-packages/seaborn/distributions.py:2551: FutureWarning: `distplot` is a deprecated function and will be removed in a future version. Please adapt your code to use either `displot` (a figure-level function with similar flexibility) or `histplot` (an axes-level function for histograms).\n",
            "  warnings.warn(msg, FutureWarning)\n"
          ],
          "name": "stderr"
        },
        {
          "output_type": "execute_result",
          "data": {
            "text/plain": [
              "<matplotlib.axes._subplots.AxesSubplot at 0x7f2911474b38>"
            ]
          },
          "metadata": {
            "tags": []
          },
          "execution_count": 74
        },
        {
          "output_type": "display_data",
          "data": {
            "image/png": "[encoded data removed]",
            "text/plain": [
              "<Figure size 1080x720 with 1 Axes>"
            ]
          },
          "metadata": {
            "tags": [],
            "needs_background": "light"
          }
        }
      ]
    },
    {
      "cell_type": "code",
      "metadata": {
        "id": "-NMnSlaJRyGJ"
      },
      "source": [
        ""
      ],
      "execution_count": 81,
      "outputs": []
    },
    {
      "cell_type": "code",
      "metadata": {
        "id": "kMShNFAFPKXM"
      },
      "source": [
        ""
      ],
      "execution_count": 81,
      "outputs": []
    },
    {
      "cell_type": "markdown",
      "metadata": {
        "id": "GY4pj6HCY6jl"
      },
      "source": [
        "# 4.DataSet: Players.xlsx"
      ]
    },
    {
      "cell_type": "code",
      "metadata": {
        "id": "SYPn2_Zh3-88"
      },
      "source": [
        "working_directory = '/content/drive/My Drive/AlmaBetter/Cohort Aravali/Module 2/Week 1/dat/'\n",
        "player_df = pd.read_excel(working_directory + 'Players.xlsx')"
      ],
      "execution_count": 84,
      "outputs": []
    },
    {
      "cell_type": "code",
      "metadata": {
        "id": "07XbFbyTksGF",
        "outputId": "eceb490f-fd5f-434e-94d5-4b440d1adc58",
        "colab": {
          "base_uri": "https://localhost:8080/",
          "height": 343
        }
      },
      "source": [
        "player_df.head(10)"
      ],
      "execution_count": 85,
      "outputs": [
        {
          "output_type": "execute_result",
          "data": {
            "text/html": [
              "<div>\n",
              "<style scoped>\n",
              "    .dataframe tbody tr th:only-of-type {\n",
              "        vertical-align: middle;\n",
              "    }\n",
              "\n",
              "    .dataframe tbody tr th {\n",
              "        vertical-align: top;\n",
              "    }\n",
              "\n",
              "    .dataframe thead th {\n",
              "        text-align: right;\n",
              "    }\n",
              "</style>\n",
              "<table border=\"1\" class=\"dataframe\">\n",
              "  <thead>\n",
              "    <tr style=\"text-align: right;\">\n",
              "      <th></th>\n",
              "      <th>Player_Name</th>\n",
              "      <th>DOB</th>\n",
              "      <th>Batting_Hand</th>\n",
              "      <th>Bowling_Skill</th>\n",
              "      <th>Country</th>\n",
              "    </tr>\n",
              "  </thead>\n",
              "  <tbody>\n",
              "    <tr>\n",
              "      <th>0</th>\n",
              "      <td>A Ashish Reddy</td>\n",
              "      <td>1991-02-24</td>\n",
              "      <td>Right_Hand</td>\n",
              "      <td>Right-arm medium</td>\n",
              "      <td>India</td>\n",
              "    </tr>\n",
              "    <tr>\n",
              "      <th>1</th>\n",
              "      <td>A Chandila</td>\n",
              "      <td>1983-12-05</td>\n",
              "      <td>Right_Hand</td>\n",
              "      <td>Right-arm offbreak</td>\n",
              "      <td>India</td>\n",
              "    </tr>\n",
              "    <tr>\n",
              "      <th>2</th>\n",
              "      <td>A Chopra</td>\n",
              "      <td>1977-09-19</td>\n",
              "      <td>Right_Hand</td>\n",
              "      <td>Right-arm offbreak</td>\n",
              "      <td>India</td>\n",
              "    </tr>\n",
              "    <tr>\n",
              "      <th>3</th>\n",
              "      <td>A Choudhary</td>\n",
              "      <td>NaT</td>\n",
              "      <td>Right_hand</td>\n",
              "      <td>Left-arm fast-medium</td>\n",
              "      <td>NaN</td>\n",
              "    </tr>\n",
              "    <tr>\n",
              "      <th>4</th>\n",
              "      <td>A Dananjaya</td>\n",
              "      <td>NaT</td>\n",
              "      <td>Right_Hand</td>\n",
              "      <td>Right-arm offbreak</td>\n",
              "      <td>NaN</td>\n",
              "    </tr>\n",
              "    <tr>\n",
              "      <th>5</th>\n",
              "      <td>A Flintoff</td>\n",
              "      <td>1977-12-06</td>\n",
              "      <td>Right_Hand</td>\n",
              "      <td>Right-arm fast-medium</td>\n",
              "      <td>England</td>\n",
              "    </tr>\n",
              "    <tr>\n",
              "      <th>6</th>\n",
              "      <td>A Hales</td>\n",
              "      <td>NaT</td>\n",
              "      <td>Right_hand</td>\n",
              "      <td>NaN</td>\n",
              "      <td>NaN</td>\n",
              "    </tr>\n",
              "    <tr>\n",
              "      <th>7</th>\n",
              "      <td>A Joseph</td>\n",
              "      <td>NaT</td>\n",
              "      <td>Right_Hand</td>\n",
              "      <td>Right-arm fast</td>\n",
              "      <td>NaN</td>\n",
              "    </tr>\n",
              "    <tr>\n",
              "      <th>8</th>\n",
              "      <td>A Kumble</td>\n",
              "      <td>1970-10-17</td>\n",
              "      <td>Right_Hand</td>\n",
              "      <td>Legbreak googly</td>\n",
              "      <td>India</td>\n",
              "    </tr>\n",
              "    <tr>\n",
              "      <th>9</th>\n",
              "      <td>A Mishra</td>\n",
              "      <td>1982-11-24</td>\n",
              "      <td>Right_Hand</td>\n",
              "      <td>Legbreak</td>\n",
              "      <td>India</td>\n",
              "    </tr>\n",
              "  </tbody>\n",
              "</table>\n",
              "</div>"
            ],
            "text/plain": [
              "      Player_Name        DOB Batting_Hand          Bowling_Skill  Country\n",
              "0  A Ashish Reddy 1991-02-24   Right_Hand       Right-arm medium    India\n",
              "1      A Chandila 1983-12-05   Right_Hand     Right-arm offbreak    India\n",
              "2        A Chopra 1977-09-19   Right_Hand     Right-arm offbreak    India\n",
              "3     A Choudhary        NaT   Right_hand   Left-arm fast-medium      NaN\n",
              "4     A Dananjaya        NaT   Right_Hand     Right-arm offbreak      NaN\n",
              "5      A Flintoff 1977-12-06   Right_Hand  Right-arm fast-medium  England\n",
              "6         A Hales        NaT   Right_hand                    NaN      NaN\n",
              "7        A Joseph        NaT   Right_Hand         Right-arm fast      NaN\n",
              "8        A Kumble 1970-10-17   Right_Hand        Legbreak googly    India\n",
              "9        A Mishra 1982-11-24   Right_Hand               Legbreak    India"
            ]
          },
          "metadata": {
            "tags": []
          },
          "execution_count": 85
        }
      ]
    },
    {
      "cell_type": "code",
      "metadata": {
        "id": "FNiwf9rtmQAC",
        "outputId": "e9ece3ea-8fe0-4d32-a5fa-35c5454e7c5b",
        "colab": {
          "base_uri": "https://localhost:8080/"
        }
      },
      "source": [
        "player_df.info()"
      ],
      "execution_count": 86,
      "outputs": [
        {
          "output_type": "stream",
          "text": [
            "<class 'pandas.core.frame.DataFrame'>\n",
            "RangeIndex: 566 entries, 0 to 565\n",
            "Data columns (total 5 columns):\n",
            " #   Column         Non-Null Count  Dtype         \n",
            "---  ------         --------------  -----         \n",
            " 0   Player_Name    566 non-null    object        \n",
            " 1   DOB            471 non-null    datetime64[ns]\n",
            " 2   Batting_Hand   563 non-null    object        \n",
            " 3   Bowling_Skill  502 non-null    object        \n",
            " 4   Country        471 non-null    object        \n",
            "dtypes: datetime64[ns](1), object(4)\n",
            "memory usage: 22.2+ KB\n"
          ],
          "name": "stdout"
        }
      ]
    },
    {
      "cell_type": "code",
      "metadata": {
        "id": "tAdYidvk4zUb",
        "outputId": "ab63f12c-79ad-45ef-92b8-ae87eba94ed0",
        "colab": {
          "base_uri": "https://localhost:8080/"
        }
      },
      "source": [
        "player_df['Batting_Hand'].value_counts()"
      ],
      "execution_count": 87,
      "outputs": [
        {
          "output_type": "execute_result",
          "data": {
            "text/plain": [
              "Right_Hand    373\n",
              "Left_Hand     142\n",
              "Right_hand     48\n",
              "Name: Batting_Hand, dtype: int64"
            ]
          },
          "metadata": {
            "tags": []
          },
          "execution_count": 87
        }
      ]
    },
    {
      "cell_type": "code",
      "metadata": {
        "id": "J5BP-zAFkzCb"
      },
      "source": [
        "player_df['Batting_Hand']=player_df['Batting_Hand'].replace('Right_Hand','Right_hand')"
      ],
      "execution_count": 88,
      "outputs": []
    },
    {
      "cell_type": "code",
      "metadata": {
        "id": "DDJ12wmNlG4K"
      },
      "source": [
        "left_right_handed_df=player_df['Batting_Hand'].value_counts().reset_index()"
      ],
      "execution_count": 89,
      "outputs": []
    },
    {
      "cell_type": "code",
      "metadata": {
        "id": "gKe7cAZcl5DO",
        "outputId": "119a2bc6-a781-4569-80c3-6cbefe9b5782",
        "colab": {
          "base_uri": "https://localhost:8080/",
          "height": 106
        }
      },
      "source": [
        "left_right_handed_df"
      ],
      "execution_count": 90,
      "outputs": [
        {
          "output_type": "execute_result",
          "data": {
            "text/html": [
              "<div>\n",
              "<style scoped>\n",
              "    .dataframe tbody tr th:only-of-type {\n",
              "        vertical-align: middle;\n",
              "    }\n",
              "\n",
              "    .dataframe tbody tr th {\n",
              "        vertical-align: top;\n",
              "    }\n",
              "\n",
              "    .dataframe thead th {\n",
              "        text-align: right;\n",
              "    }\n",
              "</style>\n",
              "<table border=\"1\" class=\"dataframe\">\n",
              "  <thead>\n",
              "    <tr style=\"text-align: right;\">\n",
              "      <th></th>\n",
              "      <th>index</th>\n",
              "      <th>Batting_Hand</th>\n",
              "    </tr>\n",
              "  </thead>\n",
              "  <tbody>\n",
              "    <tr>\n",
              "      <th>0</th>\n",
              "      <td>Right_hand</td>\n",
              "      <td>421</td>\n",
              "    </tr>\n",
              "    <tr>\n",
              "      <th>1</th>\n",
              "      <td>Left_Hand</td>\n",
              "      <td>142</td>\n",
              "    </tr>\n",
              "  </tbody>\n",
              "</table>\n",
              "</div>"
            ],
            "text/plain": [
              "        index  Batting_Hand\n",
              "0  Right_hand           421\n",
              "1   Left_Hand           142"
            ]
          },
          "metadata": {
            "tags": []
          },
          "execution_count": 90
        }
      ]
    },
    {
      "cell_type": "code",
      "metadata": {
        "id": "HPdUY38slZJc",
        "outputId": "b6beb186-30d7-4ea1-bf63-8f91d0933459",
        "colab": {
          "base_uri": "https://localhost:8080/",
          "height": 476
        }
      },
      "source": [
        "plt.figure(figsize=(10,7))\n",
        "plt.title('batting hand')\n",
        "sns.barplot(x = 'index', y = 'Batting_Hand', data = left_right_handed_df) "
      ],
      "execution_count": 107,
      "outputs": [
        {
          "output_type": "execute_result",
          "data": {
            "text/plain": [
              "<matplotlib.axes._subplots.AxesSubplot at 0x7f290dbe8438>"
            ]
          },
          "metadata": {
            "tags": []
          },
          "execution_count": 107
        },
        {
          "output_type": "display_data",
          "data": {
            "image/png": "[encoded data removed]",
            "text/plain": [
              "<Figure size 720x504 with 1 Axes>"
            ]
          },
          "metadata": {
            "tags": [],
            "needs_background": "light"
          }
        }
      ]
    },
    {
      "cell_type": "markdown",
      "metadata": {
        "id": "YwVUODyPtlUS"
      },
      "source": [
        "this graph shows that most of cricket batsman are Right hand and few are Left Hand"
      ]
    },
    {
      "cell_type": "code",
      "metadata": {
        "id": "l9dNjjS5oERz"
      },
      "source": [
        "bowling_skill_df=player_df['Bowling_Skill'].value_counts().reset_index()"
      ],
      "execution_count": 92,
      "outputs": []
    },
    {
      "cell_type": "code",
      "metadata": {
        "id": "uogPybALoWEt",
        "outputId": "3df993d9-8b8e-445a-b3e8-11eacad997b6",
        "colab": {
          "base_uri": "https://localhost:8080/",
          "height": 639
        }
      },
      "source": [
        "plt.figure(figsize=(15,10))\n",
        "plt.title('Bowling skill')\n",
        "sns.barplot(x = 'Bowling_Skill', y = 'index', data = bowling_skill_df) "
      ],
      "execution_count": 108,
      "outputs": [
        {
          "output_type": "execute_result",
          "data": {
            "text/plain": [
              "<matplotlib.axes._subplots.AxesSubplot at 0x7f291565b5c0>"
            ]
          },
          "metadata": {
            "tags": []
          },
          "execution_count": 108
        },
        {
          "output_type": "display_data",
          "data": {
            "image/png": "[encoded data removed]",
            "text/plain": [
              "<Figure size 1080x720 with 1 Axes>"
            ]
          },
          "metadata": {
            "tags": [],
            "needs_background": "light"
          }
        }
      ]
    },
    {
      "cell_type": "markdown",
      "metadata": {
        "id": "6MrYXQ3bTfgs"
      },
      "source": [
        "this graph shows that most of the bowler are Right-arm medium ,second most number of the bowler are Right arm off break  and thire most number of bowler are Right arm fast medium "
      ]
    },
    {
      "cell_type": "markdown",
      "metadata": {
        "id": "uPtUMF5CUSGu"
      },
      "source": [
        "this graph also shows that least number of bowler are right arm fast ,second least number of bowler are Right arm medium and third least number of batsman are Right arm bowler"
      ]
    },
    {
      "cell_type": "code",
      "metadata": {
        "id": "yl6Att3Bpq8v"
      },
      "source": [
        "contry_df=player_df['Country'].value_counts().reset_index()"
      ],
      "execution_count": 94,
      "outputs": []
    },
    {
      "cell_type": "code",
      "metadata": {
        "id": "kunUnLsEp2x-",
        "outputId": "97abb47b-be70-4e2c-a050-58eede97d787",
        "colab": {
          "base_uri": "https://localhost:8080/",
          "height": 638
        }
      },
      "source": [
        "plt.figure(figsize=(15,10))\n",
        "plt.title('player belongs to which country')\n",
        "sns.barplot(x = 'index', y = 'Country', data = contry_df)"
      ],
      "execution_count": 109,
      "outputs": [
        {
          "output_type": "execute_result",
          "data": {
            "text/plain": [
              "<matplotlib.axes._subplots.AxesSubplot at 0x7f290dac2eb8>"
            ]
          },
          "metadata": {
            "tags": []
          },
          "execution_count": 109
        },
        {
          "output_type": "display_data",
          "data": {
            "image/png": "[encoded data removed]",
            "text/plain": [
              "<Figure size 1080x720 with 1 Axes>"
            ]
          },
          "metadata": {
            "tags": [],
            "needs_background": "light"
          }
        }
      ]
    },
    {
      "cell_type": "markdown",
      "metadata": {
        "id": "b3AlUmx0suhj"
      },
      "source": [
        "this graph shows that most of the IPL plyer from india .and second most player  from Australia  and thied most player from South Africa"
      ]
    },
    {
      "cell_type": "markdown",
      "metadata": {
        "id": "X0vqUsXCZ6tQ"
      },
      "source": [
        "this graph also shows that few players of the IPL are belongs to Netherlands ,Zimbabwea and Bangladesh"
      ]
    },
    {
      "cell_type": "markdown",
      "metadata": {
        "id": "wzM-uV2LhgzA"
      },
      "source": [
        "# 5.DataSet:  teamwise_home_and_away.csv"
      ]
    },
    {
      "cell_type": "code",
      "metadata": {
        "id": "ekzwnzGwXxO9"
      },
      "source": [
        "#load the data set\n",
        "working_directory = '/content/drive/My Drive/AlmaBetter/Cohort Aravali/Module 2/Week 1/dat/'\n",
        "home_df = pd.read_csv(working_directory + 'teamwise_home_and_away.csv')"
      ],
      "execution_count": 96,
      "outputs": []
    },
    {
      "cell_type": "code",
      "metadata": {
        "id": "6LQngNtHqQXi",
        "outputId": "34e8b342-8e8f-49a1-8d6e-83ec65f9b078",
        "colab": {
          "base_uri": "https://localhost:8080/",
          "height": 462
        }
      },
      "source": [
        "home_df"
      ],
      "execution_count": 97,
      "outputs": [
        {
          "output_type": "execute_result",
          "data": {
            "text/html": [
              "<div>\n",
              "<style scoped>\n",
              "    .dataframe tbody tr th:only-of-type {\n",
              "        vertical-align: middle;\n",
              "    }\n",
              "\n",
              "    .dataframe tbody tr th {\n",
              "        vertical-align: top;\n",
              "    }\n",
              "\n",
              "    .dataframe thead th {\n",
              "        text-align: right;\n",
              "    }\n",
              "</style>\n",
              "<table border=\"1\" class=\"dataframe\">\n",
              "  <thead>\n",
              "    <tr style=\"text-align: right;\">\n",
              "      <th></th>\n",
              "      <th>team</th>\n",
              "      <th>home_wins</th>\n",
              "      <th>away_wins</th>\n",
              "      <th>home_matches</th>\n",
              "      <th>away_matches</th>\n",
              "      <th>home_win_percentage</th>\n",
              "      <th>away_win_percentage</th>\n",
              "    </tr>\n",
              "  </thead>\n",
              "  <tbody>\n",
              "    <tr>\n",
              "      <th>0</th>\n",
              "      <td>Rising Pune Supergiant</td>\n",
              "      <td>5</td>\n",
              "      <td>5</td>\n",
              "      <td>8</td>\n",
              "      <td>8</td>\n",
              "      <td>62.500000</td>\n",
              "      <td>62.500000</td>\n",
              "    </tr>\n",
              "    <tr>\n",
              "      <th>1</th>\n",
              "      <td>Mumbai Indians</td>\n",
              "      <td>58</td>\n",
              "      <td>51</td>\n",
              "      <td>101</td>\n",
              "      <td>86</td>\n",
              "      <td>57.425743</td>\n",
              "      <td>59.302326</td>\n",
              "    </tr>\n",
              "    <tr>\n",
              "      <th>2</th>\n",
              "      <td>Chennai Super Kings</td>\n",
              "      <td>51</td>\n",
              "      <td>49</td>\n",
              "      <td>89</td>\n",
              "      <td>75</td>\n",
              "      <td>57.303371</td>\n",
              "      <td>65.333333</td>\n",
              "    </tr>\n",
              "    <tr>\n",
              "      <th>3</th>\n",
              "      <td>Delhi Capitals</td>\n",
              "      <td>3</td>\n",
              "      <td>7</td>\n",
              "      <td>6</td>\n",
              "      <td>10</td>\n",
              "      <td>50.000000</td>\n",
              "      <td>70.000000</td>\n",
              "    </tr>\n",
              "    <tr>\n",
              "      <th>4</th>\n",
              "      <td>Sunrisers Hyderabad</td>\n",
              "      <td>30</td>\n",
              "      <td>28</td>\n",
              "      <td>63</td>\n",
              "      <td>45</td>\n",
              "      <td>47.619048</td>\n",
              "      <td>62.222222</td>\n",
              "    </tr>\n",
              "    <tr>\n",
              "      <th>5</th>\n",
              "      <td>Rajasthan Royals</td>\n",
              "      <td>29</td>\n",
              "      <td>46</td>\n",
              "      <td>67</td>\n",
              "      <td>80</td>\n",
              "      <td>43.283582</td>\n",
              "      <td>57.500000</td>\n",
              "    </tr>\n",
              "    <tr>\n",
              "      <th>6</th>\n",
              "      <td>Deccan Chargers</td>\n",
              "      <td>18</td>\n",
              "      <td>11</td>\n",
              "      <td>43</td>\n",
              "      <td>32</td>\n",
              "      <td>41.860465</td>\n",
              "      <td>34.375000</td>\n",
              "    </tr>\n",
              "    <tr>\n",
              "      <th>7</th>\n",
              "      <td>Kings XI Punjab</td>\n",
              "      <td>38</td>\n",
              "      <td>44</td>\n",
              "      <td>91</td>\n",
              "      <td>85</td>\n",
              "      <td>41.758242</td>\n",
              "      <td>51.764706</td>\n",
              "    </tr>\n",
              "    <tr>\n",
              "      <th>8</th>\n",
              "      <td>Royal Challengers Bangalore</td>\n",
              "      <td>35</td>\n",
              "      <td>49</td>\n",
              "      <td>85</td>\n",
              "      <td>95</td>\n",
              "      <td>41.176471</td>\n",
              "      <td>51.578947</td>\n",
              "    </tr>\n",
              "    <tr>\n",
              "      <th>9</th>\n",
              "      <td>Kolkata Knight Riders</td>\n",
              "      <td>34</td>\n",
              "      <td>58</td>\n",
              "      <td>83</td>\n",
              "      <td>95</td>\n",
              "      <td>40.963855</td>\n",
              "      <td>61.052632</td>\n",
              "    </tr>\n",
              "    <tr>\n",
              "      <th>10</th>\n",
              "      <td>Delhi Daredevils</td>\n",
              "      <td>25</td>\n",
              "      <td>42</td>\n",
              "      <td>72</td>\n",
              "      <td>89</td>\n",
              "      <td>34.722222</td>\n",
              "      <td>47.191011</td>\n",
              "    </tr>\n",
              "    <tr>\n",
              "      <th>11</th>\n",
              "      <td>Pune Warriors</td>\n",
              "      <td>6</td>\n",
              "      <td>6</td>\n",
              "      <td>20</td>\n",
              "      <td>26</td>\n",
              "      <td>30.000000</td>\n",
              "      <td>23.076923</td>\n",
              "    </tr>\n",
              "    <tr>\n",
              "      <th>12</th>\n",
              "      <td>Kochi Tuskers Kerala</td>\n",
              "      <td>2</td>\n",
              "      <td>4</td>\n",
              "      <td>7</td>\n",
              "      <td>7</td>\n",
              "      <td>28.571429</td>\n",
              "      <td>57.142857</td>\n",
              "    </tr>\n",
              "    <tr>\n",
              "      <th>13</th>\n",
              "      <td>Gujarat Lions</td>\n",
              "      <td>1</td>\n",
              "      <td>12</td>\n",
              "      <td>14</td>\n",
              "      <td>16</td>\n",
              "      <td>7.142857</td>\n",
              "      <td>75.000000</td>\n",
              "    </tr>\n",
              "  </tbody>\n",
              "</table>\n",
              "</div>"
            ],
            "text/plain": [
              "                           team  ...  away_win_percentage\n",
              "0        Rising Pune Supergiant  ...            62.500000\n",
              "1                Mumbai Indians  ...            59.302326\n",
              "2           Chennai Super Kings  ...            65.333333\n",
              "3                Delhi Capitals  ...            70.000000\n",
              "4           Sunrisers Hyderabad  ...            62.222222\n",
              "5              Rajasthan Royals  ...            57.500000\n",
              "6               Deccan Chargers  ...            34.375000\n",
              "7               Kings XI Punjab  ...            51.764706\n",
              "8   Royal Challengers Bangalore  ...            51.578947\n",
              "9         Kolkata Knight Riders  ...            61.052632\n",
              "10             Delhi Daredevils  ...            47.191011\n",
              "11                Pune Warriors  ...            23.076923\n",
              "12         Kochi Tuskers Kerala  ...            57.142857\n",
              "13                Gujarat Lions  ...            75.000000\n",
              "\n",
              "[14 rows x 7 columns]"
            ]
          },
          "metadata": {
            "tags": []
          },
          "execution_count": 97
        }
      ]
    },
    {
      "cell_type": "code",
      "metadata": {
        "id": "vUq140EJqeQn",
        "outputId": "8317ead1-dc9d-4da5-d516-965a4063bf6b",
        "colab": {
          "base_uri": "https://localhost:8080/"
        }
      },
      "source": [
        "home_df.shape"
      ],
      "execution_count": 98,
      "outputs": [
        {
          "output_type": "execute_result",
          "data": {
            "text/plain": [
              "(14, 7)"
            ]
          },
          "metadata": {
            "tags": []
          },
          "execution_count": 98
        }
      ]
    },
    {
      "cell_type": "markdown",
      "metadata": {
        "id": "zQn4ce9WuJ-J"
      },
      "source": [
        "this data set contain 14 rows and 7 columns .each rows corresponds to one unique team  and each column coresponds to \n",
        "\n",
        "\n",
        "1.team: name of the team\n",
        "\n",
        "2.home_wins: How many match they win by their home ground \n",
        "\n",
        "3.away_wins: how many match they win apart from home ground \n",
        "\n",
        "4.home_matches:number of matches playing in their home ground \n",
        "\n",
        "5.away_matches:number of matches playing outside of their  home ground \n",
        "\n",
        "6.home_win_percentage\t:(home_wins*100)/home_matches\n",
        "\n",
        "7.away_win_percentage: (away_wins*100)/away_matches"
      ]
    },
    {
      "cell_type": "code",
      "metadata": {
        "id": "t8RtmM-7qUY-",
        "outputId": "a86f5fea-e26a-426d-f0b8-f76a3e5ce4ba",
        "colab": {
          "base_uri": "https://localhost:8080/"
        }
      },
      "source": [
        "home_df.info()"
      ],
      "execution_count": 99,
      "outputs": [
        {
          "output_type": "stream",
          "text": [
            "<class 'pandas.core.frame.DataFrame'>\n",
            "RangeIndex: 14 entries, 0 to 13\n",
            "Data columns (total 7 columns):\n",
            " #   Column               Non-Null Count  Dtype  \n",
            "---  ------               --------------  -----  \n",
            " 0   team                 14 non-null     object \n",
            " 1   home_wins            14 non-null     int64  \n",
            " 2   away_wins            14 non-null     int64  \n",
            " 3   home_matches         14 non-null     int64  \n",
            " 4   away_matches         14 non-null     int64  \n",
            " 5   home_win_percentage  14 non-null     float64\n",
            " 6   away_win_percentage  14 non-null     float64\n",
            "dtypes: float64(2), int64(4), object(1)\n",
            "memory usage: 912.0+ bytes\n"
          ],
          "name": "stdout"
        }
      ]
    },
    {
      "cell_type": "markdown",
      "metadata": {
        "id": "ie3ZkrOYulmf"
      },
      "source": [
        "data set do not contain any null values"
      ]
    },
    {
      "cell_type": "code",
      "metadata": {
        "id": "0qWbJObLrxlk",
        "outputId": "35d3c272-3b3c-4632-b215-b6ab44d7bded",
        "colab": {
          "base_uri": "https://localhost:8080/",
          "height": 754
        }
      },
      "source": [
        "plt.figure(figsize=(30,15))\n",
        "plt.title(\"team win the match maximum times by their home ground \")\n",
        "sns.barplot(x = 'team', y = 'home_win_percentage', data = home_df)"
      ],
      "execution_count": 100,
      "outputs": [
        {
          "output_type": "execute_result",
          "data": {
            "text/plain": [
              "<matplotlib.axes._subplots.AxesSubplot at 0x7f290e2d7080>"
            ]
          },
          "metadata": {
            "tags": []
          },
          "execution_count": 100
        },
        {
          "output_type": "display_data",
          "data": {
            "image/png": "[encoded data removed]",
            "text/plain": [
              "<Figure size 2160x1080 with 1 Axes>"
            ]
          },
          "metadata": {
            "tags": [],
            "needs_background": "light"
          }
        }
      ]
    },
    {
      "cell_type": "markdown",
      "metadata": {
        "id": "TEous_cmVJPZ"
      },
      "source": [
        "this graph  shows that team Rising Pune Supergiant\twin  the match maximun times in their home ground ,team Mumbai Indians win the match second most number of times in their home ground and team Channai Super Kinds win the match third most number of times in their home ground "
      ]
    },
    {
      "cell_type": "markdown",
      "metadata": {
        "id": "OZ3NN0-AWkYy"
      },
      "source": [
        "this graph also shows that Gujarat Lions win the match least number of times in their home ground ,Kochi Tuskers Kerala won the match second least number of times on their home ground  and Pune Warriors win the match 3rd least number of times in their home ground "
      ]
    },
    {
      "cell_type": "code",
      "metadata": {
        "id": "Bz9kNI6Dr-uw",
        "outputId": "13d91f5e-3ed0-42ef-893c-db822292a495",
        "colab": {
          "base_uri": "https://localhost:8080/",
          "height": 754
        }
      },
      "source": [
        "plt.figure(figsize=(30,15))\n",
        "plt.title('team win the match maximum times on away ground')\n",
        "sns.barplot(x = 'team', y = 'away_win_percentage', data = home_df)"
      ],
      "execution_count": 110,
      "outputs": [
        {
          "output_type": "execute_result",
          "data": {
            "text/plain": [
              "<matplotlib.axes._subplots.AxesSubplot at 0x7f290d9ef5f8>"
            ]
          },
          "metadata": {
            "tags": []
          },
          "execution_count": 110
        },
        {
          "output_type": "display_data",
          "data": {
            "image/png": "[encoded data removed]",
            "text/plain": [
              "<Figure size 2160x1080 with 1 Axes>"
            ]
          },
          "metadata": {
            "tags": [],
            "needs_background": "light"
          }
        }
      ]
    },
    {
      "cell_type": "markdown",
      "metadata": {
        "id": "7iVOpjBdb5jN"
      },
      "source": [
        "this graph shows that Gujarat Lions win the match maximun number of times in away ground ,Delhi Capital win the match second most times in away ground and chennai Super king won the match third most number of times in away ground "
      ]
    },
    {
      "cell_type": "markdown",
      "metadata": {
        "id": "E5EJmuD2d5AK"
      },
      "source": [
        "this graph also shows that pune Warriors won the match least number of times in away ground  ,Deccan Chargers  win the match second least number of times on the away ground and Delhi Daredevills win the third least number of times on away ground "
      ]
    },
    {
      "cell_type": "code",
      "metadata": {
        "id": "Ky39yt5uqUfS"
      },
      "source": [
        "home_df_corr=home_df.corr()"
      ],
      "execution_count": 102,
      "outputs": []
    },
    {
      "cell_type": "code",
      "metadata": {
        "id": "qM25NWiZqUiy",
        "outputId": "ad70c1c2-4f78-4314-d397-8ecdef7c7601",
        "colab": {
          "base_uri": "https://localhost:8080/",
          "height": 225
        }
      },
      "source": [
        "home_df_corr"
      ],
      "execution_count": 103,
      "outputs": [
        {
          "output_type": "execute_result",
          "data": {
            "text/html": [
              "<div>\n",
              "<style scoped>\n",
              "    .dataframe tbody tr th:only-of-type {\n",
              "        vertical-align: middle;\n",
              "    }\n",
              "\n",
              "    .dataframe tbody tr th {\n",
              "        vertical-align: top;\n",
              "    }\n",
              "\n",
              "    .dataframe thead th {\n",
              "        text-align: right;\n",
              "    }\n",
              "</style>\n",
              "<table border=\"1\" class=\"dataframe\">\n",
              "  <thead>\n",
              "    <tr style=\"text-align: right;\">\n",
              "      <th></th>\n",
              "      <th>home_wins</th>\n",
              "      <th>away_wins</th>\n",
              "      <th>home_matches</th>\n",
              "      <th>away_matches</th>\n",
              "      <th>home_win_percentage</th>\n",
              "      <th>away_win_percentage</th>\n",
              "    </tr>\n",
              "  </thead>\n",
              "  <tbody>\n",
              "    <tr>\n",
              "      <th>home_wins</th>\n",
              "      <td>1.000000</td>\n",
              "      <td>0.886244</td>\n",
              "      <td>0.958743</td>\n",
              "      <td>0.849240</td>\n",
              "      <td>0.497658</td>\n",
              "      <td>0.055775</td>\n",
              "    </tr>\n",
              "    <tr>\n",
              "      <th>away_wins</th>\n",
              "      <td>0.886244</td>\n",
              "      <td>1.000000</td>\n",
              "      <td>0.948420</td>\n",
              "      <td>0.972108</td>\n",
              "      <td>0.277170</td>\n",
              "      <td>0.133031</td>\n",
              "    </tr>\n",
              "    <tr>\n",
              "      <th>home_matches</th>\n",
              "      <td>0.958743</td>\n",
              "      <td>0.948420</td>\n",
              "      <td>1.000000</td>\n",
              "      <td>0.950332</td>\n",
              "      <td>0.341030</td>\n",
              "      <td>-0.028096</td>\n",
              "    </tr>\n",
              "    <tr>\n",
              "      <th>away_matches</th>\n",
              "      <td>0.849240</td>\n",
              "      <td>0.972108</td>\n",
              "      <td>0.950332</td>\n",
              "      <td>1.000000</td>\n",
              "      <td>0.221629</td>\n",
              "      <td>-0.066670</td>\n",
              "    </tr>\n",
              "    <tr>\n",
              "      <th>home_win_percentage</th>\n",
              "      <td>0.497658</td>\n",
              "      <td>0.277170</td>\n",
              "      <td>0.341030</td>\n",
              "      <td>0.221629</td>\n",
              "      <td>1.000000</td>\n",
              "      <td>0.103141</td>\n",
              "    </tr>\n",
              "    <tr>\n",
              "      <th>away_win_percentage</th>\n",
              "      <td>0.055775</td>\n",
              "      <td>0.133031</td>\n",
              "      <td>-0.028096</td>\n",
              "      <td>-0.066670</td>\n",
              "      <td>0.103141</td>\n",
              "      <td>1.000000</td>\n",
              "    </tr>\n",
              "  </tbody>\n",
              "</table>\n",
              "</div>"
            ],
            "text/plain": [
              "                     home_wins  ...  away_win_percentage\n",
              "home_wins             1.000000  ...             0.055775\n",
              "away_wins             0.886244  ...             0.133031\n",
              "home_matches          0.958743  ...            -0.028096\n",
              "away_matches          0.849240  ...            -0.066670\n",
              "home_win_percentage   0.497658  ...             0.103141\n",
              "away_win_percentage   0.055775  ...             1.000000\n",
              "\n",
              "[6 rows x 6 columns]"
            ]
          },
          "metadata": {
            "tags": []
          },
          "execution_count": 103
        }
      ]
    },
    {
      "cell_type": "code",
      "metadata": {
        "id": "Gays6vYJrFkx",
        "outputId": "6dbd8d10-1e7d-4d0c-ff76-acb0abc45bb6",
        "colab": {
          "base_uri": "https://localhost:8080/",
          "height": 625
        }
      },
      "source": [
        "plt.figure(figsize=(25,10))\n",
        "plt.title('heat map of home_df_corr ')\n",
        "sns.heatmap(home_df_corr,vmin=-1,cmap=\"gist_stern_r\",annot=True)"
      ],
      "execution_count": 111,
      "outputs": [
        {
          "output_type": "execute_result",
          "data": {
            "text/plain": [
              "<matplotlib.axes._subplots.AxesSubplot at 0x7f290e30e978>"
            ]
          },
          "metadata": {
            "tags": []
          },
          "execution_count": 111
        },
        {
          "output_type": "display_data",
          "data": {
            "image/png": "[encoded data removed]",
            "text/plain": [
              "<Figure size 1800x720 with 2 Axes>"
            ]
          },
          "metadata": {
            "tags": [],
            "needs_background": "light"
          }
        }
      ]
    },
    {
      "cell_type": "code",
      "metadata": {
        "id": "u-MzL2lmI1Vv"
      },
      "source": [
        "#load the data \n",
        "working_directory = '/content/drive/My Drive/AlmaBetter/Cohort Aravali/Module 2/Week 1/dat/'\n",
        "deliveries_df = pd.read_csv(working_directory + 'deliveries.csv')"
      ],
      "execution_count": 82,
      "outputs": []
    }
  ]
}